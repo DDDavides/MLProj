{
 "cells": [
  {
   "cell_type": "code",
   "execution_count": 1,
   "metadata": {},
   "outputs": [
    {
     "name": "stdout",
     "output_type": "stream",
     "text": [
      "Init Plugin\n",
      "Init Graph Optimizer\n",
      "Init Kernel\n"
     ]
    }
   ],
   "source": [
    "from sklearn.model_selection import train_test_split\n",
    "\n",
    "from sklearn.model_selection import GridSearchCV\n",
    "from sklearn.preprocessing import OneHotEncoder\n",
    "from sklearn.impute import SimpleImputer\n",
    "\n",
    "# from sklearn.svm import SVC, LinearSVC\n",
    "# from sklearn.linear_model import SGDClassifier, RidgeClassifier\n",
    "from sklearn.ensemble import RandomForestClassifier, AdaBoostClassifier\n",
    "\n",
    "import pandas as pd\n",
    "import tensorflow as tf\n",
    "from tensorflow import keras as k\n",
    "\n",
    "from utility import *"
   ]
  },
  {
   "cell_type": "code",
   "execution_count": 2,
   "metadata": {},
   "outputs": [],
   "source": [
    "data = load_data()\n",
    "X, y = create_XY(data)\n",
    "\n",
    "enc = OneHotEncoder(sparse=False)\n",
    "y = enc.fit_transform(y)\n",
    "X_imputed = SimpleImputer().fit_transform(X)"
   ]
  },
  {
   "cell_type": "code",
   "execution_count": 3,
   "metadata": {},
   "outputs": [],
   "source": [
    "x_train, x_test, y_train, y_test = train_test_split(X_imputed, y, test_size=test_size)"
   ]
  },
  {
   "cell_type": "markdown",
   "metadata": {},
   "source": [
    "# RandomForestClassifier"
   ]
  },
  {
   "cell_type": "code",
   "execution_count": 4,
   "metadata": {},
   "outputs": [
    {
     "name": "stdout",
     "output_type": "stream",
     "text": [
      "Forest Classifier\n",
      "Train Score:  0.6319078947368421\n",
      "Test Score:  0.22017543859649122\n"
     ]
    }
   ],
   "source": [
    "forest = RandomForestClassifier(n_estimators=2, random_state=2)\n",
    "forest = forest.fit(x_train, y_train)\n",
    "\n",
    "\n",
    "#Forest Model Metrics\n",
    "print(\"Forest Classifier\")\n",
    "print(\"Train Score: \", forest.score(x_train, y_train))\n",
    "print(\"Test Score: \", forest.score(x_test, y_test))"
   ]
  },
  {
   "cell_type": "code",
   "execution_count": 5,
   "metadata": {},
   "outputs": [
    {
     "data": {
      "text/html": [
       "<style>#sk-container-id-1 {color: black;background-color: white;}#sk-container-id-1 pre{padding: 0;}#sk-container-id-1 div.sk-toggleable {background-color: white;}#sk-container-id-1 label.sk-toggleable__label {cursor: pointer;display: block;width: 100%;margin-bottom: 0;padding: 0.3em;box-sizing: border-box;text-align: center;}#sk-container-id-1 label.sk-toggleable__label-arrow:before {content: \"▸\";float: left;margin-right: 0.25em;color: #696969;}#sk-container-id-1 label.sk-toggleable__label-arrow:hover:before {color: black;}#sk-container-id-1 div.sk-estimator:hover label.sk-toggleable__label-arrow:before {color: black;}#sk-container-id-1 div.sk-toggleable__content {max-height: 0;max-width: 0;overflow: hidden;text-align: left;background-color: #f0f8ff;}#sk-container-id-1 div.sk-toggleable__content pre {margin: 0.2em;color: black;border-radius: 0.25em;background-color: #f0f8ff;}#sk-container-id-1 input.sk-toggleable__control:checked~div.sk-toggleable__content {max-height: 200px;max-width: 100%;overflow: auto;}#sk-container-id-1 input.sk-toggleable__control:checked~label.sk-toggleable__label-arrow:before {content: \"▾\";}#sk-container-id-1 div.sk-estimator input.sk-toggleable__control:checked~label.sk-toggleable__label {background-color: #d4ebff;}#sk-container-id-1 div.sk-label input.sk-toggleable__control:checked~label.sk-toggleable__label {background-color: #d4ebff;}#sk-container-id-1 input.sk-hidden--visually {border: 0;clip: rect(1px 1px 1px 1px);clip: rect(1px, 1px, 1px, 1px);height: 1px;margin: -1px;overflow: hidden;padding: 0;position: absolute;width: 1px;}#sk-container-id-1 div.sk-estimator {font-family: monospace;background-color: #f0f8ff;border: 1px dotted black;border-radius: 0.25em;box-sizing: border-box;margin-bottom: 0.5em;}#sk-container-id-1 div.sk-estimator:hover {background-color: #d4ebff;}#sk-container-id-1 div.sk-parallel-item::after {content: \"\";width: 100%;border-bottom: 1px solid gray;flex-grow: 1;}#sk-container-id-1 div.sk-label:hover label.sk-toggleable__label {background-color: #d4ebff;}#sk-container-id-1 div.sk-serial::before {content: \"\";position: absolute;border-left: 1px solid gray;box-sizing: border-box;top: 0;bottom: 0;left: 50%;z-index: 0;}#sk-container-id-1 div.sk-serial {display: flex;flex-direction: column;align-items: center;background-color: white;padding-right: 0.2em;padding-left: 0.2em;position: relative;}#sk-container-id-1 div.sk-item {position: relative;z-index: 1;}#sk-container-id-1 div.sk-parallel {display: flex;align-items: stretch;justify-content: center;background-color: white;position: relative;}#sk-container-id-1 div.sk-item::before, #sk-container-id-1 div.sk-parallel-item::before {content: \"\";position: absolute;border-left: 1px solid gray;box-sizing: border-box;top: 0;bottom: 0;left: 50%;z-index: -1;}#sk-container-id-1 div.sk-parallel-item {display: flex;flex-direction: column;z-index: 1;position: relative;background-color: white;}#sk-container-id-1 div.sk-parallel-item:first-child::after {align-self: flex-end;width: 50%;}#sk-container-id-1 div.sk-parallel-item:last-child::after {align-self: flex-start;width: 50%;}#sk-container-id-1 div.sk-parallel-item:only-child::after {width: 0;}#sk-container-id-1 div.sk-dashed-wrapped {border: 1px dashed gray;margin: 0 0.4em 0.5em 0.4em;box-sizing: border-box;padding-bottom: 0.4em;background-color: white;}#sk-container-id-1 div.sk-label label {font-family: monospace;font-weight: bold;display: inline-block;line-height: 1.2em;}#sk-container-id-1 div.sk-label-container {text-align: center;}#sk-container-id-1 div.sk-container {/* jupyter's `normalize.less` sets `[hidden] { display: none; }` but bootstrap.min.css set `[hidden] { display: none !important; }` so we also need the `!important` here to be able to override the default hidden behavior on the sphinx rendered scikit-learn.org. See: https://github.com/scikit-learn/scikit-learn/issues/21755 */display: inline-block !important;position: relative;}#sk-container-id-1 div.sk-text-repr-fallback {display: none;}</style><div id=\"sk-container-id-1\" class=\"sk-top-container\"><div class=\"sk-text-repr-fallback\"><pre>GridSearchCV(estimator=RandomForestClassifier(), n_jobs=10,\n",
       "             param_grid=[{&#x27;max_depth&#x27;: [1, 2, 3, 4, 5, 6, 7, 8, 9],\n",
       "                          &#x27;n_estimators&#x27;: [1, 2, 3, 4, 5, 6, 7, 8, 9],\n",
       "                          &#x27;random_state&#x27;: [0, 1, 2, 3, 4, 5, 6, 7, 8, 9]}],\n",
       "             return_train_score=True, scoring=&#x27;accuracy&#x27;)</pre><b>In a Jupyter environment, please rerun this cell to show the HTML representation or trust the notebook. <br />On GitHub, the HTML representation is unable to render, please try loading this page with nbviewer.org.</b></div><div class=\"sk-container\" hidden><div class=\"sk-item sk-dashed-wrapped\"><div class=\"sk-label-container\"><div class=\"sk-label sk-toggleable\"><input class=\"sk-toggleable__control sk-hidden--visually\" id=\"sk-estimator-id-1\" type=\"checkbox\" ><label for=\"sk-estimator-id-1\" class=\"sk-toggleable__label sk-toggleable__label-arrow\">GridSearchCV</label><div class=\"sk-toggleable__content\"><pre>GridSearchCV(estimator=RandomForestClassifier(), n_jobs=10,\n",
       "             param_grid=[{&#x27;max_depth&#x27;: [1, 2, 3, 4, 5, 6, 7, 8, 9],\n",
       "                          &#x27;n_estimators&#x27;: [1, 2, 3, 4, 5, 6, 7, 8, 9],\n",
       "                          &#x27;random_state&#x27;: [0, 1, 2, 3, 4, 5, 6, 7, 8, 9]}],\n",
       "             return_train_score=True, scoring=&#x27;accuracy&#x27;)</pre></div></div></div><div class=\"sk-parallel\"><div class=\"sk-parallel-item\"><div class=\"sk-item\"><div class=\"sk-label-container\"><div class=\"sk-label sk-toggleable\"><input class=\"sk-toggleable__control sk-hidden--visually\" id=\"sk-estimator-id-2\" type=\"checkbox\" ><label for=\"sk-estimator-id-2\" class=\"sk-toggleable__label sk-toggleable__label-arrow\">estimator: RandomForestClassifier</label><div class=\"sk-toggleable__content\"><pre>RandomForestClassifier()</pre></div></div></div><div class=\"sk-serial\"><div class=\"sk-item\"><div class=\"sk-estimator sk-toggleable\"><input class=\"sk-toggleable__control sk-hidden--visually\" id=\"sk-estimator-id-3\" type=\"checkbox\" ><label for=\"sk-estimator-id-3\" class=\"sk-toggleable__label sk-toggleable__label-arrow\">RandomForestClassifier</label><div class=\"sk-toggleable__content\"><pre>RandomForestClassifier()</pre></div></div></div></div></div></div></div></div></div></div>"
      ],
      "text/plain": [
       "GridSearchCV(estimator=RandomForestClassifier(), n_jobs=10,\n",
       "             param_grid=[{'max_depth': [1, 2, 3, 4, 5, 6, 7, 8, 9],\n",
       "                          'n_estimators': [1, 2, 3, 4, 5, 6, 7, 8, 9],\n",
       "                          'random_state': [0, 1, 2, 3, 4, 5, 6, 7, 8, 9]}],\n",
       "             return_train_score=True, scoring='accuracy')"
      ]
     },
     "execution_count": 5,
     "metadata": {},
     "output_type": "execute_result"
    }
   ],
   "source": [
    "n = 10\n",
    "m = 10\n",
    "max_depth = 10\n",
    "forests = []\n",
    "grid = [{\"n_estimators\": list(range(1, n)), \"random_state\": list(range(0, m)), \"max_depth\": list(range(1, max_depth))}]\n",
    "gridSearch = GridSearchCV(RandomForestClassifier(), param_grid=grid, n_jobs=10, return_train_score=True, scoring='accuracy')\n",
    "gridSearch.fit(x_train, y_train)"
   ]
  },
  {
   "cell_type": "code",
   "execution_count": 6,
   "metadata": {},
   "outputs": [
    {
     "name": "stdout",
     "output_type": "stream",
     "text": [
      "Forest Classifiers Best Score:  0.4358552631578947\n",
      "Forest Classifiers Best Params:  {'max_depth': 3, 'n_estimators': 1, 'random_state': 5}\n",
      "Forest Classifiers Best Params:  RandomForestClassifier(max_depth=3, n_estimators=1, random_state=5)\n",
      "Forest Classifiers Best estimator train evaluation:  0.2832236842105263\n",
      "Forest Classifiers Best estimator test evaluation:  0.2614035087719298\n"
     ]
    }
   ],
   "source": [
    "print(\"Forest Classifiers Best Score: \", gridSearch.best_score_)\n",
    "print(\"Forest Classifiers Best Params: \", gridSearch.best_params_)\n",
    "print(\"Forest Classifiers Best Params: \", gridSearch.best_estimator_)\n",
    "print(\"Forest Classifiers Best estimator train evaluation: \", gridSearch.best_estimator_.score(x_train, y_train))\n",
    "print(\"Forest Classifiers Best estimator test evaluation: \", gridSearch.best_estimator_.score(x_test, y_test))"
   ]
  },
  {
   "attachments": {},
   "cell_type": "markdown",
   "metadata": {},
   "source": [
    "# Neural Network"
   ]
  },
  {
   "cell_type": "code",
   "execution_count": 7,
   "metadata": {},
   "outputs": [],
   "source": [
    "x_train_nn, x_test_nn, y_train_nn, y_test_nn = train_test_split(X_imputed, y, shuffle=False)"
   ]
  },
  {
   "cell_type": "code",
   "execution_count": 13,
   "metadata": {},
   "outputs": [],
   "source": [
    "nn = k.models.Sequential([\n",
    "    k.layers.Flatten(),\n",
    "    k.layers.Dense(300, activation='relu'),\n",
    "    k.layers.Dense(100, activation='relu'),\n",
    "    k.layers.Dropout(0.3),\n",
    "    k.layers.Dense(3, activation='softmax'),\n",
    "])"
   ]
  },
  {
   "cell_type": "code",
   "execution_count": 14,
   "metadata": {},
   "outputs": [
    {
     "name": "stdout",
     "output_type": "stream",
     "text": [
      "Model: \"sequential_1\"\n",
      "_________________________________________________________________\n",
      "Layer (type)                 Output Shape              Param #   \n",
      "=================================================================\n",
      "flatten_1 (Flatten)          (3135, 94)                0         \n",
      "_________________________________________________________________\n",
      "dense_3 (Dense)              (3135, 300)               28500     \n",
      "_________________________________________________________________\n",
      "dense_4 (Dense)              (3135, 100)               30100     \n",
      "_________________________________________________________________\n",
      "dropout_1 (Dropout)          (3135, 100)               0         \n",
      "_________________________________________________________________\n",
      "dense_5 (Dense)              (3135, 3)                 303       \n",
      "=================================================================\n",
      "Total params: 58,903\n",
      "Trainable params: 58,903\n",
      "Non-trainable params: 0\n",
      "_________________________________________________________________\n"
     ]
    }
   ],
   "source": [
    "learning_rate=0.01\n",
    "\n",
    "nn.compile(\n",
    "    loss='categorical_crossentropy',\n",
    "    optimizer=k.optimizers.Adam(learning_rate),\n",
    "    metrics=['accuracy']\n",
    ")\n",
    "nn(x_train_nn)\n",
    "nn.summary()"
   ]
  },
  {
   "cell_type": "code",
   "execution_count": 15,
   "metadata": {},
   "outputs": [
    {
     "name": "stdout",
     "output_type": "stream",
     "text": [
      "Epoch 1/500\n",
      " 5/63 [=>............................] - ETA: 0s - loss: 10.2537 - accuracy: 0.3760"
     ]
    },
    {
     "name": "stderr",
     "output_type": "stream",
     "text": [
      "2022-12-22 17:11:05.719339: I tensorflow/core/grappler/optimizers/custom_graph_optimizer_registry.cc:112] Plugin optimizer for device_type GPU is enabled.\n"
     ]
    },
    {
     "name": "stdout",
     "output_type": "stream",
     "text": [
      "63/63 [==============================] - 1s 13ms/step - loss: 1.9338 - accuracy: 0.4925\n",
      "Epoch 2/500\n",
      "63/63 [==============================] - 1s 11ms/step - loss: 1.0070 - accuracy: 0.4628\n",
      "Epoch 3/500\n",
      "63/63 [==============================] - 1s 11ms/step - loss: 1.0031 - accuracy: 0.5158\n",
      "Epoch 4/500\n",
      "63/63 [==============================] - 1s 11ms/step - loss: 0.9867 - accuracy: 0.5311\n",
      "Epoch 5/500\n",
      "63/63 [==============================] - 1s 12ms/step - loss: 0.9906 - accuracy: 0.5215\n",
      "Epoch 6/500\n",
      "63/63 [==============================] - 1s 12ms/step - loss: 0.9856 - accuracy: 0.5298\n",
      "Epoch 7/500\n",
      "63/63 [==============================] - 1s 11ms/step - loss: 1.0002 - accuracy: 0.5266\n",
      "Epoch 8/500\n",
      "63/63 [==============================] - 1s 12ms/step - loss: 0.9991 - accuracy: 0.5298\n",
      "Epoch 9/500\n",
      "63/63 [==============================] - 1s 11ms/step - loss: 0.9797 - accuracy: 0.5490\n",
      "Epoch 10/500\n",
      "63/63 [==============================] - 1s 12ms/step - loss: 0.9801 - accuracy: 0.5416\n",
      "Epoch 11/500\n",
      "63/63 [==============================] - 1s 12ms/step - loss: 0.9807 - accuracy: 0.5404\n",
      "Epoch 12/500\n",
      "63/63 [==============================] - 1s 12ms/step - loss: 0.9832 - accuracy: 0.5321\n",
      "Epoch 13/500\n",
      "63/63 [==============================] - 1s 11ms/step - loss: 0.9737 - accuracy: 0.5445\n",
      "Epoch 14/500\n",
      "63/63 [==============================] - 1s 11ms/step - loss: 0.9737 - accuracy: 0.5458\n",
      "Epoch 15/500\n",
      "63/63 [==============================] - 1s 11ms/step - loss: 0.9821 - accuracy: 0.5413\n",
      "Epoch 16/500\n",
      "63/63 [==============================] - 1s 11ms/step - loss: 0.9759 - accuracy: 0.5397\n",
      "Epoch 17/500\n",
      "63/63 [==============================] - 1s 11ms/step - loss: 0.9731 - accuracy: 0.5394\n",
      "Epoch 18/500\n",
      "63/63 [==============================] - 1s 11ms/step - loss: 0.9769 - accuracy: 0.5359\n",
      "Epoch 19/500\n",
      "63/63 [==============================] - 1s 11ms/step - loss: 0.9676 - accuracy: 0.5423\n",
      "Epoch 20/500\n",
      "63/63 [==============================] - 1s 11ms/step - loss: 0.9834 - accuracy: 0.5270\n",
      "Epoch 21/500\n",
      "63/63 [==============================] - 1s 11ms/step - loss: 0.9774 - accuracy: 0.5419\n",
      "Epoch 22/500\n",
      "63/63 [==============================] - 1s 11ms/step - loss: 0.9640 - accuracy: 0.5509\n",
      "Epoch 23/500\n",
      "63/63 [==============================] - 1s 11ms/step - loss: 0.9567 - accuracy: 0.5464\n",
      "Epoch 24/500\n",
      "63/63 [==============================] - 1s 11ms/step - loss: 0.9607 - accuracy: 0.5426\n",
      "Epoch 25/500\n",
      "63/63 [==============================] - 1s 11ms/step - loss: 0.9676 - accuracy: 0.5407\n",
      "Epoch 26/500\n",
      "63/63 [==============================] - 1s 11ms/step - loss: 0.9729 - accuracy: 0.5439\n",
      "Epoch 27/500\n",
      "63/63 [==============================] - 1s 11ms/step - loss: 0.9690 - accuracy: 0.5391\n",
      "Epoch 28/500\n",
      "63/63 [==============================] - 1s 11ms/step - loss: 0.9679 - accuracy: 0.5451\n",
      "Epoch 29/500\n",
      "63/63 [==============================] - 1s 11ms/step - loss: 0.9643 - accuracy: 0.5384\n",
      "Epoch 30/500\n",
      "63/63 [==============================] - 1s 11ms/step - loss: 0.9629 - accuracy: 0.5467\n",
      "Epoch 31/500\n",
      "63/63 [==============================] - 1s 11ms/step - loss: 0.9705 - accuracy: 0.5394\n",
      "Epoch 32/500\n",
      "63/63 [==============================] - 1s 11ms/step - loss: 0.9548 - accuracy: 0.5496\n",
      "Epoch 33/500\n",
      "63/63 [==============================] - 1s 11ms/step - loss: 0.9665 - accuracy: 0.5298\n",
      "Epoch 34/500\n",
      "63/63 [==============================] - 1s 11ms/step - loss: 0.9812 - accuracy: 0.5241\n",
      "Epoch 35/500\n",
      "63/63 [==============================] - 1s 11ms/step - loss: 0.9616 - accuracy: 0.5397\n",
      "Epoch 36/500\n",
      "63/63 [==============================] - 1s 11ms/step - loss: 0.9670 - accuracy: 0.5337\n",
      "Epoch 37/500\n",
      "63/63 [==============================] - 1s 11ms/step - loss: 0.9687 - accuracy: 0.5388\n",
      "Epoch 38/500\n",
      "63/63 [==============================] - 1s 11ms/step - loss: 0.9592 - accuracy: 0.5445\n",
      "Epoch 39/500\n",
      "63/63 [==============================] - 1s 11ms/step - loss: 0.9470 - accuracy: 0.5435\n",
      "Epoch 40/500\n",
      "63/63 [==============================] - 1s 11ms/step - loss: 0.9442 - accuracy: 0.5509\n",
      "Epoch 41/500\n",
      "63/63 [==============================] - 1s 11ms/step - loss: 0.9409 - accuracy: 0.5502\n",
      "Epoch 42/500\n",
      "63/63 [==============================] - 1s 11ms/step - loss: 0.9624 - accuracy: 0.5400\n",
      "Epoch 43/500\n",
      "63/63 [==============================] - 1s 11ms/step - loss: 0.9515 - accuracy: 0.5416\n",
      "Epoch 44/500\n",
      "63/63 [==============================] - 1s 11ms/step - loss: 0.9497 - accuracy: 0.5391\n",
      "Epoch 45/500\n",
      "63/63 [==============================] - 1s 11ms/step - loss: 0.9468 - accuracy: 0.5470\n",
      "Epoch 46/500\n",
      "63/63 [==============================] - 1s 11ms/step - loss: 0.9391 - accuracy: 0.5598\n",
      "Epoch 47/500\n",
      "63/63 [==============================] - 1s 11ms/step - loss: 0.9429 - accuracy: 0.5502\n",
      "Epoch 48/500\n",
      "63/63 [==============================] - 1s 11ms/step - loss: 0.9474 - accuracy: 0.5448\n",
      "Epoch 49/500\n",
      "63/63 [==============================] - 1s 11ms/step - loss: 0.9462 - accuracy: 0.5470\n",
      "Epoch 50/500\n",
      "63/63 [==============================] - 1s 11ms/step - loss: 0.9609 - accuracy: 0.5212\n",
      "Epoch 51/500\n",
      "63/63 [==============================] - 1s 11ms/step - loss: 0.9432 - accuracy: 0.5407\n",
      "Epoch 52/500\n",
      "63/63 [==============================] - 1s 11ms/step - loss: 0.9478 - accuracy: 0.5442\n",
      "Epoch 53/500\n",
      "63/63 [==============================] - 1s 11ms/step - loss: 0.9400 - accuracy: 0.5458\n",
      "Epoch 54/500\n",
      "63/63 [==============================] - 1s 11ms/step - loss: 0.9445 - accuracy: 0.5486\n",
      "Epoch 55/500\n",
      "63/63 [==============================] - 1s 11ms/step - loss: 0.9589 - accuracy: 0.5506\n",
      "Epoch 56/500\n",
      "63/63 [==============================] - 1s 11ms/step - loss: 0.9862 - accuracy: 0.5285\n"
     ]
    },
    {
     "data": {
      "text/plain": [
       "<tensorflow.python.keras.callbacks.History at 0x2b6f49a30>"
      ]
     },
     "execution_count": 15,
     "metadata": {},
     "output_type": "execute_result"
    }
   ],
   "source": [
    "epochs=500\n",
    "batch_size=50\n",
    "callback = tf.keras.callbacks.EarlyStopping(monitor='loss', patience=10)\n",
    "nn.fit(x_train_nn, y_train_nn, epochs=epochs, batch_size=batch_size, callbacks=[callback])"
   ]
  },
  {
   "cell_type": "code",
   "execution_count": 16,
   "metadata": {},
   "outputs": [
    {
     "name": "stderr",
     "output_type": "stream",
     "text": [
      "2022-12-22 17:12:01.283442: I tensorflow/core/grappler/optimizers/custom_graph_optimizer_registry.cc:112] Plugin optimizer for device_type GPU is enabled.\n"
     ]
    },
    {
     "name": "stdout",
     "output_type": "stream",
     "text": [
      "TRAIN REPORT\n",
      "              precision    recall  f1-score   support\n",
      "\n",
      "           A      0.402     0.905     0.557       896\n",
      "           D      0.000     0.000     0.000       809\n",
      "           H      0.735     0.575     0.645      1430\n",
      "\n",
      "    accuracy                          0.521      3135\n",
      "   macro avg      0.379     0.493     0.401      3135\n",
      "weighted avg      0.450     0.521     0.453      3135\n",
      "\n",
      "--------------------------------------------------\n",
      "TEST REPORT\n",
      "              precision    recall  f1-score   support\n",
      "\n",
      "           A      0.420     0.908     0.575       316\n",
      "           D      0.000     0.000     0.000       228\n",
      "           H      0.740     0.535     0.621       501\n",
      "\n",
      "    accuracy                          0.531      1045\n",
      "   macro avg      0.387     0.481     0.399      1045\n",
      "weighted avg      0.482     0.531     0.472      1045\n",
      "\n",
      "--------------------------------------------------\n"
     ]
    },
    {
     "name": "stderr",
     "output_type": "stream",
     "text": [
      "/opt/homebrew/Caskroom/miniforge/base/envs/ML/lib/python3.9/site-packages/sklearn/metrics/_classification.py:1334: UndefinedMetricWarning: Precision and F-score are ill-defined and being set to 0.0 in labels with no predicted samples. Use `zero_division` parameter to control this behavior.\n",
      "  _warn_prf(average, modifier, msg_start, len(result))\n",
      "/opt/homebrew/Caskroom/miniforge/base/envs/ML/lib/python3.9/site-packages/sklearn/metrics/_classification.py:1334: UndefinedMetricWarning: Precision and F-score are ill-defined and being set to 0.0 in labels with no predicted samples. Use `zero_division` parameter to control this behavior.\n",
      "  _warn_prf(average, modifier, msg_start, len(result))\n",
      "/opt/homebrew/Caskroom/miniforge/base/envs/ML/lib/python3.9/site-packages/sklearn/metrics/_classification.py:1334: UndefinedMetricWarning: Precision and F-score are ill-defined and being set to 0.0 in labels with no predicted samples. Use `zero_division` parameter to control this behavior.\n",
      "  _warn_prf(average, modifier, msg_start, len(result))\n",
      "/opt/homebrew/Caskroom/miniforge/base/envs/ML/lib/python3.9/site-packages/sklearn/metrics/_classification.py:1334: UndefinedMetricWarning: Precision and F-score are ill-defined and being set to 0.0 in labels with no predicted samples. Use `zero_division` parameter to control this behavior.\n",
      "  _warn_prf(average, modifier, msg_start, len(result))\n",
      "/opt/homebrew/Caskroom/miniforge/base/envs/ML/lib/python3.9/site-packages/sklearn/metrics/_classification.py:1334: UndefinedMetricWarning: Precision and F-score are ill-defined and being set to 0.0 in labels with no predicted samples. Use `zero_division` parameter to control this behavior.\n",
      "  _warn_prf(average, modifier, msg_start, len(result))\n",
      "/opt/homebrew/Caskroom/miniforge/base/envs/ML/lib/python3.9/site-packages/sklearn/metrics/_classification.py:1334: UndefinedMetricWarning: Precision and F-score are ill-defined and being set to 0.0 in labels with no predicted samples. Use `zero_division` parameter to control this behavior.\n",
      "  _warn_prf(average, modifier, msg_start, len(result))\n"
     ]
    }
   ],
   "source": [
    "report1(nn, x_train_nn, y_train_nn, \"train\", enc)\n",
    "report1(nn, x_test_nn, y_test_nn, \"test\", enc)"
   ]
  }
 ],
 "metadata": {
  "kernelspec": {
   "display_name": "ML",
   "language": "python",
   "name": "python3"
  },
  "language_info": {
   "codemirror_mode": {
    "name": "ipython",
    "version": 3
   },
   "file_extension": ".py",
   "mimetype": "text/x-python",
   "name": "python",
   "nbconvert_exporter": "python",
   "pygments_lexer": "ipython3",
   "version": "3.9.15"
  },
  "orig_nbformat": 4,
  "vscode": {
   "interpreter": {
    "hash": "e35c5856cff72d20e6e0e19445c0d45b03888a7b19367444be448131dd51e693"
   }
  }
 },
 "nbformat": 4,
 "nbformat_minor": 2
}
