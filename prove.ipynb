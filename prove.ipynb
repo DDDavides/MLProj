{
 "cells": [
  {
   "cell_type": "markdown",
   "metadata": {},
   "source": [
    "# Import e funzioni ausiliarie"
   ]
  },
  {
   "cell_type": "code",
   "execution_count": null,
   "metadata": {},
   "outputs": [],
   "source": [
    "from tensorflow import keras as k\n",
    "import tensorflow as tf\n",
    "import pandas as pd\n",
    "import numpy as np\n",
    "import matplotlib.pyplot as plt\n",
    "import random\n"
   ]
  },
  {
   "cell_type": "code",
   "execution_count": null,
   "metadata": {},
   "outputs": [],
   "source": [
    "func = lambda x: np.sin(x)"
   ]
  },
  {
   "cell_type": "code",
   "execution_count": null,
   "metadata": {},
   "outputs": [],
   "source": [
    "x = np.linspace(0,40,4000)\n",
    "y = func(x)\n",
    "\n",
    "# data = np.concatenate([x.reshape(x.shape[0], 1), y.reshape(y.shape[0], 1)], axis=1)\n",
    "# print(data)"
   ]
  },
  {
   "cell_type": "code",
   "execution_count": null,
   "metadata": {},
   "outputs": [],
   "source": [
    "plt.plot(x,y)\n",
    "# plt.plot(data)"
   ]
  },
  {
   "cell_type": "code",
   "execution_count": null,
   "metadata": {},
   "outputs": [],
   "source": [
    "def time_step(data, step=10):\n",
    "    x,y = [],[]\n",
    "    for i in range(data.shape[0] - step):\n",
    "        x.append(data[i:i+step])\n",
    "        y.append(data[i+step])\n",
    "    \n",
    "    return np.array(x), np.array(y)"
   ]
  },
  {
   "cell_type": "code",
   "execution_count": null,
   "metadata": {},
   "outputs": [],
   "source": [
    "def time_step(data, label, step=10):\n",
    "    \n",
    "    x,y = [],[]\n",
    "    for i in range(data.shape[0] - step):\n",
    "        x.append(data[i:i+step])\n",
    "        y.append(label[i+step])\n",
    "    \n",
    "    return np.array(x), np.array(y)"
   ]
  },
  {
   "cell_type": "code",
   "execution_count": null,
   "metadata": {},
   "outputs": [],
   "source": [
    "xt,yt = time_step(x, y)\n",
    "xt = xt.reshape(*xt.shape, 1)\n",
    "yt = yt.reshape(*yt.shape, 1)\n",
    "# xt,yt = time_step(data)"
   ]
  },
  {
   "cell_type": "code",
   "execution_count": null,
   "metadata": {},
   "outputs": [],
   "source": [
    "model = k.models.Sequential(\n",
    "    [\n",
    "        k.layers.GRU(128),\n",
    "        k.layers.Flatten(),\n",
    "        k.layers.Dense(300),\n",
    "        k.layers.Dense(1)\n",
    "    ]\n",
    ")"
   ]
  },
  {
   "cell_type": "code",
   "execution_count": null,
   "metadata": {},
   "outputs": [],
   "source": [
    "model.compile(\n",
    "    loss='mse',\n",
    "    optimizer=tf.keras.optimizers.Adam(0.0001),\n",
    "    metrics=['mse']\n",
    ")\n",
    "model(xt)\n",
    "model.summary()"
   ]
  },
  {
   "cell_type": "code",
   "execution_count": null,
   "metadata": {},
   "outputs": [],
   "source": [
    "callback = tf.keras.callbacks.EarlyStopping(monitor='loss', patience=10)\n",
    "model.fit(xt, yt, epochs=500, callbacks=[callback], batch_size=64)"
   ]
  },
  {
   "cell_type": "code",
   "execution_count": null,
   "metadata": {},
   "outputs": [],
   "source": [
    "predicted = model.predict(xt)\n",
    "plt.plot(x[10:], predicted[:, -1])\n",
    "plt.plot(x, y)"
   ]
  },
  {
   "cell_type": "code",
   "execution_count": null,
   "metadata": {},
   "outputs": [],
   "source": [
    "x_test = np.linspace(40,100,6000)\n",
    "y_test = func(x_test)\n",
    "x_prova, y_prova = time_step(x_test, y_test)\n",
    "# data_t = np.concatenate([x_test.reshape(x_test.shape[0], 1), y_test.reshape(y_test.shape[0], 1)], axis=1)\n",
    "# x_prova, y_prova = time_step(data_t)\n",
    "\n",
    "x_prova = x_prova.reshape(*x_prova.shape, 1)\n",
    "y_prova = y_prova.reshape(*y_prova.shape, 1)\n",
    "model.evaluate(x_prova, y_prova)\n",
    "predicted2 = model.predict(x_prova)\n",
    "plt.plot(x_test[10:], predicted2[:, -1])\n",
    "plt.plot(x_test,y_test)\n"
   ]
  }
 ],
 "metadata": {
  "kernelspec": {
   "display_name": "ML",
   "language": "python",
   "name": "python3"
  },
  "language_info": {
   "codemirror_mode": {
    "name": "ipython",
    "version": 3
   },
   "file_extension": ".py",
   "mimetype": "text/x-python",
   "name": "python",
   "nbconvert_exporter": "python",
   "pygments_lexer": "ipython3",
   "version": "3.9.15 | packaged by conda-forge | (main, Nov 22 2022, 08:52:10) \n[Clang 14.0.6 ]"
  },
  "orig_nbformat": 4,
  "vscode": {
   "interpreter": {
    "hash": "e35c5856cff72d20e6e0e19445c0d45b03888a7b19367444be448131dd51e693"
   }
  }
 },
 "nbformat": 4,
 "nbformat_minor": 2
}
