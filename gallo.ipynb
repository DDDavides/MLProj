{
 "cells": [
  {
   "cell_type": "markdown",
   "metadata": {},
   "source": [
    "# Import e funzioni ausiliarie"
   ]
  },
  {
   "cell_type": "code",
   "execution_count": null,
   "metadata": {},
   "outputs": [],
   "source": [
    "from sklearn.model_selection import train_test_split\n",
    "from sklearn.metrics import classification_report\n",
    "from sklearn.model_selection import GridSearchCV\n",
    "\n",
    "from sklearn.preprocessing import OneHotEncoder\n",
    "from sklearn.impute import SimpleImputer\n",
    "\n",
    "from sklearn.svm import SVC, LinearSVC\n",
    "from sklearn.linear_model import SGDClassifier, RidgeClassifier\n",
    "from sklearn.ensemble import RandomForestClassifier, AdaBoostClassifier\n",
    "\n",
    "from tensorflow import keras as k\n",
    "\n",
    "import tensorflow as tf\n",
    "import pandas as pd\n",
    "import numpy as np\n"
   ]
  },
  {
   "cell_type": "code",
   "execution_count": null,
   "metadata": {},
   "outputs": [],
   "source": [
    "data = pd.read_csv('./input/datasetimp.csv')\n",
    "# dataImputed = pd.read_csv('./input/datasetImputed.csv')"
   ]
  },
  {
   "cell_type": "code",
   "execution_count": null,
   "metadata": {},
   "outputs": [],
   "source": [
    "def reshape_to_inputshape(a_prev,season):\n",
    "    # e.g. (a_prev=x_train, season=trn_ssn)\n",
    "    totalMatches = len(season)*38\n",
    "    input_step = int(a_prev.shape[0]/totalMatches)\n",
    "    prev_f = a_prev.shape[1]\n",
    "    return np.reshape(a_prev, (totalMatches, input_step, prev_f))"
   ]
  },
  {
   "cell_type": "code",
   "execution_count": null,
   "metadata": {},
   "outputs": [],
   "source": [
    "def encode(x):\n",
    "    if x == 0:\n",
    "        v = [1,0,0]\n",
    "    elif x == 1:\n",
    "        v = [0,1,0]\n",
    "    elif x == 2:\n",
    "        v = [0,0,1]\n",
    "    return np.array(v)\n",
    "\n",
    "def encode_list(l):\n",
    "    r = []\n",
    "    for i in l:\n",
    "        r.append(encode(i))\n",
    "    return r"
   ]
  },
  {
   "cell_type": "code",
   "execution_count": null,
   "metadata": {},
   "outputs": [],
   "source": [
    "def report(model, x_train, y_train, x_test, y_test, encoder):\n",
    "    # TRAIN\n",
    "    y_pred_train = model.predict(x_train)\n",
    "    y_predm_train = np.asarray(y_pred_train)\n",
    "    y_predm_train = np.argmax(y_predm_train, axis=1)\n",
    "    y_predm_train = encode_list(y_predm_train.reshape(-1))\n",
    "    y_predm_train = np.array(y_predm_train)\n",
    "\n",
    "    y_trainm = np.argmax(y_train, axis=1)\n",
    "    y_trainm = encode_list(y_trainm.reshape(-1))\n",
    "    y_trainm = np.array(y_trainm)\n",
    "\n",
    "    # Inverse One-hot transform - TRAIN\n",
    "    y_predm_train = encoder.inverse_transform(y_predm_train)\n",
    "    y_trainm = encoder.inverse_transform(y_trainm)\n",
    "\n",
    "    # TEST\n",
    "    y_pred = model.predict(x_test)\n",
    "    y_predm = np.asarray(y_pred)\n",
    "    y_predm = np.argmax(y_predm, axis=1)\n",
    "    y_predm = encode_list(y_predm.reshape(-1))\n",
    "    y_predm = np.array(y_predm)\n",
    "    \n",
    "    y_testm = np.argmax(y_test, axis=1)\n",
    "    y_testm = encode_list(y_testm.reshape(-1))\n",
    "    y_testm = np.array(y_testm)\n",
    "\n",
    "    # Inverse One-hot transform - TEST\n",
    "    y_predm = encoder.inverse_transform(y_predm)\n",
    "    y_testm = encoder.inverse_transform(y_testm)\n",
    "\n",
    "    #Model Metrics test\n",
    "    print(\"TEST REPORT\")\n",
    "    print(classification_report(y_testm, y_predm, digits=3))\n",
    "    print(\"--------------------------------------------------\")\n",
    "\n",
    "    #Model Metrics train\n",
    "    print(\"TRAINING REPORT\")\n",
    "    print(classification_report(y_trainm, y_predm_train, digits=3))\n",
    "    print(\"--------------------------------------------------\")"
   ]
  },
  {
   "cell_type": "code",
   "execution_count": null,
   "metadata": {},
   "outputs": [],
   "source": [
    "def report(model, x, y, name, encoder):\n",
    "    y_pred = model.predict(x)\n",
    "    y_predm = np.asarray(y_pred)\n",
    "    y_predm = np.argmax(y_predm, axis=1)\n",
    "\n",
    "    vec = np.vectorize(encode, signature=\"() -> (3)\")\n",
    "\n",
    "    y_predm = vec(y_predm.reshape(-1))\n",
    "    y_predm = np.array(y_predm)\n",
    "\n",
    "    ym = np.argmax(y, axis=1)\n",
    "    ym = vec(ym.reshape(-1))\n",
    "    ym = np.array(ym)\n",
    "\n",
    "    # Inverse One-hot transform\n",
    "    y_predm = encoder.inverse_transform(y_predm)\n",
    "    ym = encoder.inverse_transform(ym)\n",
    "\n",
    "    #Model Metrics \n",
    "    print(f\"{name.upper()} REPORT\")\n",
    "    print(classification_report(ym, y_predm, digits=3))\n",
    "    print(\"--------------------------------------------------\")"
   ]
  },
  {
   "cell_type": "markdown",
   "metadata": {},
   "source": [
    "# Preprocessamento dati"
   ]
  },
  {
   "cell_type": "code",
   "execution_count": null,
   "metadata": {},
   "outputs": [],
   "source": [
    "features = ['HomeTeam', 'AwayTeam', \n",
    "            'HTeamEloScore', 'ATeamEloScore', \n",
    "            'HTdaysSinceLastMatch', 'ATdaysSinceLastMatch', \n",
    "            'HTW_rate', 'ATW_rate', 'ATD_rate', 'HTD_rate', \n",
    "            '7_HTW_rate', '12_HTW_rate', '7_ATW_rate', '12_ATW_rate', \n",
    "            '7_HTD_rate', '12_HTD_rate', '7_ATD_rate', '12_ATD_rate',\n",
    "            '7_HTL_rate', '12_HTL_rate', '7_ATL_rate', '12_ATL_rate',\n",
    "            '5_HTHW_rate', '5_ATAW_rate']\n",
    "\n",
    "X = pd.get_dummies(data[features])\n",
    "y = data[['FTR']].to_numpy().ravel().reshape(-1, 1)\n",
    "\n",
    "enc = OneHotEncoder(sparse=False)\n",
    "y = enc.fit_transform(y)\n",
    "X_imputed = SimpleImputer().fit_transform(X)\n"
   ]
  },
  {
   "cell_type": "code",
   "execution_count": null,
   "metadata": {},
   "outputs": [],
   "source": [
    "trn_ssn = [2008, 2009, 2010, 2011, 2012, 2013, 2014, 2015]\n",
    "trn_ssn_len = len(trn_ssn)\n",
    "tst_ssn = [2016,2017,2018] \n",
    "tst_ssn_len = len(tst_ssn)\n",
    "\n",
    "test_size = float(tst_ssn_len)/(tst_ssn_len+trn_ssn_len)\n",
    "\n",
    "#Split X and Y into training and Test Sets\n",
    "x_train, x_test, y_train, y_test = train_test_split(X_imputed, y, shuffle=False, test_size=test_size)"
   ]
  },
  {
   "cell_type": "markdown",
   "metadata": {},
   "source": [
    "# RandomForestClassifier"
   ]
  },
  {
   "cell_type": "code",
   "execution_count": null,
   "metadata": {},
   "outputs": [],
   "source": [
    "forest = RandomForestClassifier(n_estimators=2, random_state=2)\n",
    "forest = forest.fit(x_train, y_train)\n",
    "\n",
    "\n",
    "#Forest Model Metrics\n",
    "print(\"Forest Classifier\")\n",
    "print(\"Train Score: \", forest.score(x_train, y_train))\n",
    "print(\"Test Score: \", forest.score(x_test, y_test))"
   ]
  },
  {
   "cell_type": "code",
   "execution_count": null,
   "metadata": {},
   "outputs": [],
   "source": [
    "n = 10\n",
    "m = 5\n",
    "max_depth = 10\n",
    "forests = []\n",
    "grid = [{\"n_estimators\": list(range(1, n)), \"random_state\": list(range(0, m)), \"max_depth\": list(range(1, max_depth))}]\n",
    "gridSearch = GridSearchCV(RandomForestClassifier(), param_grid=grid, n_jobs=10, return_train_score=True)\n",
    "gridSearch.fit(x_train, y_train)\n",
    "\n",
    "print(\"Forest Classifiers Best Score: \", gridSearch.best_score_)\n",
    "print(\"Forest Classifiers Best Params: \", gridSearch.best_params_)\n",
    "print(\"Forest Classifiers Best Params: \", gridSearch.best_estimator_)"
   ]
  },
  {
   "cell_type": "markdown",
   "metadata": {},
   "source": [
    "# Neural Network"
   ]
  },
  {
   "cell_type": "code",
   "execution_count": null,
   "metadata": {},
   "outputs": [],
   "source": [
    "y_nn = ((data[['ordinalHR']]).to_numpy()*2)\n",
    "#Split X and Y into training and Test Sets\n",
    "# y_nn = OneHotEncoder(sparse=True).fit_transform(y_nn)\n",
    "x_train_nn, x_test_nn, y_train_nn, y_test_nn = train_test_split(X_imputed, y_nn, shuffle=True)"
   ]
  },
  {
   "cell_type": "code",
   "execution_count": null,
   "metadata": {},
   "outputs": [],
   "source": [
    "nn = k.models.Sequential([\n",
    "    k.layers.Flatten(),\n",
    "    k.layers.Dense(41, activation='relu'),\n",
    "    k.layers.Dense(75, activation='relu'),\n",
    "    k.layers.Dropout(0.3),\n",
    "    k.layers.Dense(3, activation='softmax'),\n",
    "])"
   ]
  },
  {
   "cell_type": "code",
   "execution_count": null,
   "metadata": {},
   "outputs": [],
   "source": [
    "learning_rate=0.01\n",
    "\n",
    "nn.compile(\n",
    "    loss='sparse_categorical_crossentropy',\n",
    "    optimizer=k.optimizers.Adam(learning_rate),\n",
    "    metrics=['accuracy']\n",
    ")\n",
    "nn(x_train_nn)\n",
    "nn.summary()"
   ]
  },
  {
   "cell_type": "code",
   "execution_count": null,
   "metadata": {},
   "outputs": [],
   "source": [
    "epochs=10\n",
    "batch_size=50\n",
    "nn.fit(x_train_nn, y_train_nn, epochs=epochs, batch_size=batch_size)"
   ]
  },
  {
   "cell_type": "code",
   "execution_count": null,
   "metadata": {},
   "outputs": [],
   "source": [
    "print(nn.evaluate(x_test_nn, y_test_nn))"
   ]
  },
  {
   "cell_type": "markdown",
   "metadata": {},
   "source": [
    "# Lstm preprocessing 😍"
   ]
  },
  {
   "cell_type": "code",
   "execution_count": null,
   "metadata": {},
   "outputs": [],
   "source": [
    "def time_step(data, label, step=10):\n",
    "    x,y = [],[]\n",
    "    for i in range(data.shape[0]-(step+1)):\n",
    "        x.append(data[i:i+step])\n",
    "        y.append(label[i+step+1])\n",
    "    return np.array(x),np.array(y)"
   ]
  },
  {
   "cell_type": "code",
   "execution_count": null,
   "metadata": {},
   "outputs": [],
   "source": [
    "def create_dataset(team_name):\n",
    "    ht = data.loc[data['HomeTeam']==team_name]\n",
    "    at = data.loc[data['AwayTeam']==team_name]\n",
    "    team_data = pd.concat([ht,at])\n",
    "    team_data_label = team_data['FTR']\n",
    "    team_data_featured = pd.get_dummies(team_data[features])\n",
    "    return team_data_featured,team_data_label"
   ]
  },
  {
   "cell_type": "code",
   "execution_count": null,
   "metadata": {},
   "outputs": [],
   "source": [
    "team_name = 'Chelsea'\n",
    "data_f, data_l = create_dataset(team_name)\n",
    "data_f = SimpleImputer().fit_transform(data_f)\n",
    "x_ars, y_ars = time_step(data_f, data_l.to_numpy())\n",
    "print(x_ars.shape)\n",
    "print(y_ars.shape)"
   ]
  },
  {
   "cell_type": "code",
   "execution_count": null,
   "metadata": {},
   "outputs": [],
   "source": [
    "y_ars = enc.fit_transform(y_ars.reshape(-1,1))"
   ]
  },
  {
   "cell_type": "code",
   "execution_count": null,
   "metadata": {},
   "outputs": [],
   "source": [
    "x_train_lstm, x_test_lstm, y_train_lstm, y_test_lstm = train_test_split(x_ars, y_ars, shuffle=False, test_size=test_size)"
   ]
  },
  {
   "cell_type": "code",
   "execution_count": null,
   "metadata": {},
   "outputs": [],
   "source": [
    "Tx = x_train_lstm.shape[1] #Time steps\n",
    "Ty = y_train_lstm.shape[1] #Time Steps"
   ]
  },
  {
   "cell_type": "markdown",
   "metadata": {},
   "source": [
    "# LSTM"
   ]
  },
  {
   "cell_type": "code",
   "execution_count": null,
   "metadata": {},
   "outputs": [],
   "source": [
    "import os\n",
    "\n",
    "model = None\n",
    "model_path = './models/lstm/'\n",
    "\n",
    "# Check se il modello è già salvato\n",
    "if not os.path.exists(model_path) or os.listdir(model_path):\n",
    "    os.mkdir(\"./\" + model_path.split(\"/\")[1])\n",
    "    os.mkdir(model_path)\n",
    "\n",
    "\n",
    "else:\n",
    "    model = k.models.load_model(model_path)\n",
    "\n",
    "\n",
    "if model == None:\n",
    "    model = k.models.Sequential(\n",
    "        [\n",
    "            k.layers.LSTM(64, return_sequences=True),\n",
    "            k.layers.Dropout(0.4),\n",
    "            k.layers.Dense(1000, activation=\"relu\"),\n",
    "            k.layers.Dropout(0.3),\n",
    "            k.layers.Dense(250, activation=\"relu\"),\n",
    "            k.layers.Dropout(0.2),\n",
    "            k.layers.Dense(3, activation=\"softmax\")\n",
    "        ]\n",
    "    )\n",
    "\n",
    "    model.compile(\n",
    "        loss='categorical_crossentropy',\n",
    "        optimizer=tf.keras.optimizers.Adam(0.0001),\n",
    "        metrics=[\"accuracy\"]\n",
    "    )\n",
    "\n",
    "    callback = tf.keras.callbacks.EarlyStopping(monitor='loss', patience=5)\n",
    "\n",
    "    model.fit(x_train_lstm, y_train_lstm, epochs=10, callbacks=[callback])\n",
    "    model.save('./models/lstm')"
   ]
  },
  {
   "cell_type": "code",
   "execution_count": null,
   "metadata": {},
   "outputs": [],
   "source": [
    "model.evaluate(x_test_lstm, y_test_lstm)\n",
    "report(model, x_train_lstm, y_train_lstm, x_test_lstm, y_test_lstm, enc)"
   ]
  },
  {
   "cell_type": "markdown",
   "metadata": {},
   "source": [
    "## 2 LSTM concatenate + dense e dropout in sequenza"
   ]
  },
  {
   "cell_type": "code",
   "execution_count": null,
   "metadata": {},
   "outputs": [],
   "source": [
    "inputs = k.layers.Input(shape=(10,94))\n",
    "lstm1 = k.layers.LSTM(100, return_sequences=True, activation=\"relu\")(inputs)\n",
    "lstm2 = k.layers.LSTM(50, return_sequences=True, activation=\"relu\")(inputs)\n",
    "concateneted = k.layers.Concatenate()([\n",
    "    lstm1,\n",
    "    lstm2\n",
    "])\n",
    "\n",
    "out = k.layers.Dropout(0.5)(concateneted)\n",
    "out = k.layers.Dense(1000, activation=\"relu\")(out)\n",
    "out = k.layers.Dropout(0.5)(out)\n",
    "out = k.layers.Dense(250, activation=\"relu\")(out)\n",
    "out = k.layers.Dropout(0.5)(out)\n",
    "out = k.layers.Dense(3, activation=\"softmax\")(out)\n",
    "\n",
    "model = k.models.Model(inputs=inputs, outputs=out)"
   ]
  },
  {
   "cell_type": "code",
   "execution_count": null,
   "metadata": {},
   "outputs": [],
   "source": [
    "model.summary()"
   ]
  },
  {
   "cell_type": "code",
   "execution_count": null,
   "metadata": {},
   "outputs": [],
   "source": [
    "model.compile(\n",
    "    loss='categorical_crossentropy',\n",
    "    optimizer=tf.keras.optimizers.Adam(0.0001),\n",
    "    metrics=[\"accuracy\"]\n",
    ")\n",
    "\n",
    "callback = tf.keras.callbacks.EarlyStopping(monitor='loss', patience=5)\n",
    "\n",
    "model.fit(x_train_lstm, y_train_lstm, epochs=500, callbacks=[callback])"
   ]
  },
  {
   "cell_type": "code",
   "execution_count": null,
   "metadata": {},
   "outputs": [],
   "source": [
    "model.evaluate(x_test_lstm, y_test_lstm)\n",
    "report(model, x_train_lstm, y_train_lstm, x_test_lstm, y_test_lstm, enc)"
   ]
  },
  {
   "cell_type": "markdown",
   "metadata": {},
   "source": [
    "### Fit\n",
    "loss: 0.9373 - accuracy: 0.5609\n",
    "### Evaluate\n",
    "loss: 0.9192 - accuracy: 0.5930\n",
    "### Classification report\n",
    "\n",
    "| | precision | recall | f1-score | support |\n",
    "| - | ----------- | ------ | -------- | ------- |\n",
    "| A | 0.609 | 0.614 | 0.612 | 345 |\n",
    "| D | 0.321 | 0.201 | 0.247 | 254 |\n",
    "| H | 0.652 | 0.763 | 0.704 | 541 |\n",
    "| accuracy | |  | 0.593 | 1140 |\n",
    "| macro avg | 0.527 | 0.526 | 0.521 | 1140 |\n",
    "| weighted avg | 0.565 | 0.593 | 0.574 | 1140 |"
   ]
  },
  {
   "cell_type": "markdown",
   "metadata": {},
   "source": [
    "## LSTM in parallelo"
   ]
  },
  {
   "cell_type": "code",
   "execution_count": null,
   "metadata": {},
   "outputs": [],
   "source": [
    "inputs = k.layers.Input(shape=(10,94))\n",
    "x = []\n",
    "for t in range(Tx):\n",
    "    module = k.layers.LSTM((t+1)*10, return_sequences=True)(inputs)\n",
    "    module = k.layers.Dropout(0.7)(module)\n",
    "    x.append(module)\n",
    "x = k.layers.Concatenate()(x)\n",
    "\n",
    "out = k.layers.Dense(1000, activation=\"relu\")(x)\n",
    "out = k.layers.Dropout(0.7)(out)\n",
    "out = k.layers.Dense(250, activation=\"relu\")(out)\n",
    "out = k.layers.Dense(3, activation=\"softmax\")(out)\n",
    "\n",
    "txLstm = k.models.Model(inputs=inputs, outputs=out)"
   ]
  },
  {
   "cell_type": "code",
   "execution_count": null,
   "metadata": {},
   "outputs": [],
   "source": [
    "txLstm.summary()"
   ]
  },
  {
   "cell_type": "code",
   "execution_count": null,
   "metadata": {},
   "outputs": [],
   "source": [
    "txLstm.compile(\n",
    "    loss='categorical_crossentropy',\n",
    "    optimizer=tf.keras.optimizers.Adam(0.0001),\n",
    "    metrics=[\"accuracy\"]\n",
    ")\n",
    "\n",
    "callback = tf.keras.callbacks.EarlyStopping(monitor='accuracy', patience=3)\n",
    "\n",
    "txLstm.fit(x_train_lstm, y_train_lstm, epochs=500, callbacks=[callback], batch_size=16)"
   ]
  },
  {
   "cell_type": "code",
   "execution_count": null,
   "metadata": {},
   "outputs": [],
   "source": [
    "txLstm.evaluate(y_test_lstm, y_test_lstm)\n",
    "report(txLstm, x_train_lstm, y_train_lstm, x_test_lstm, y_test_lstm, enc)"
   ]
  },
  {
   "cell_type": "markdown",
   "metadata": {},
   "source": [
    "# GRU"
   ]
  },
  {
   "cell_type": "code",
   "execution_count": null,
   "metadata": {},
   "outputs": [],
   "source": [
    "gru = k.models.Sequential([\n",
    "    k.layers.GRU(100, return_sequences=True, activation=\"relu\"),\n",
    "    k.layers.Dropout(0.4),\n",
    "    k.layers.Dense(1000, activation=\"relu\"),\n",
    "    k.layers.Dropout(0.3),\n",
    "    k.layers.Dense(250, activation=\"relu\"),\n",
    "    k.layers.Dropout(0.2),\n",
    "    k.layers.Dense(3, activation=\"softmax\")\n",
    "])"
   ]
  },
  {
   "cell_type": "code",
   "execution_count": null,
   "metadata": {},
   "outputs": [],
   "source": [
    "gru(x_train_lstm)\n",
    "gru.summary()"
   ]
  },
  {
   "cell_type": "code",
   "execution_count": null,
   "metadata": {},
   "outputs": [],
   "source": [
    "gru.compile(\n",
    "    loss='categorical_crossentropy',\n",
    "    optimizer=tf.keras.optimizers.Adam(0.0001),\n",
    "    metrics=[\"accuracy\"]\n",
    ")\n",
    "\n",
    "callback = tf.keras.callbacks.EarlyStopping(monitor='loss', patience=5)\n",
    "\n",
    "gru.fit(x_train_lstm, y_train_lstm, epochs=500, callbacks=[callback])"
   ]
  },
  {
   "cell_type": "code",
   "execution_count": null,
   "metadata": {},
   "outputs": [],
   "source": [
    "gru.evaluate(x_test_lstm, y_test_lstm)\n",
    "report(gru, x_train_lstm, y_train_lstm, x_test_lstm, y_test_lstm, enc)"
   ]
  },
  {
   "cell_type": "markdown",
   "metadata": {},
   "source": [
    "# Time distributed"
   ]
  },
  {
   "cell_type": "code",
   "execution_count": null,
   "metadata": {},
   "outputs": [],
   "source": [
    "model = k.models.Sequential(\n",
    "    [\n",
    "        k.layers.GRU(128, dropout=0.5, return_sequences=True),\n",
    "        k.layers.Flatten(),\n",
    "        k.layers.Dense(40, activation=\"relu\"),\n",
    "        k.layers.Dropout(0.4),\n",
    "        k.layers.Dense(20, activation=\"relu\"),\n",
    "        k.layers.Dropout(0.2),\n",
    "        k.layers.Dense(10, activation=\"relu\"),\n",
    "        k.layers.Dense(3, activation=\"softmax\")\n",
    "    ]\n",
    ")"
   ]
  },
  {
   "cell_type": "code",
   "execution_count": null,
   "metadata": {},
   "outputs": [],
   "source": [
    "model.compile(\n",
    "    loss='categorical_crossentropy',\n",
    "    optimizer=tf.keras.optimizers.Adam(0.0001),\n",
    "    metrics=[\"accuracy\"]\n",
    ")\n",
    "model(x_train_lstm)\n",
    "model.summary()"
   ]
  },
  {
   "cell_type": "code",
   "execution_count": null,
   "metadata": {},
   "outputs": [],
   "source": [
    "callback = tf.keras.callbacks.EarlyStopping(monitor='loss', patience=10)\n",
    "\n",
    "model.fit(x_train_lstm, y_train_lstm, epochs=1000, callbacks=[callback])"
   ]
  },
  {
   "cell_type": "code",
   "execution_count": null,
   "metadata": {},
   "outputs": [],
   "source": [
    "model.evaluate(x_test_lstm, y_test_lstm)\n",
    "\n",
    "report(model, x_train_lstm, y_train_lstm, \"train\", enc)\n",
    "report(model, x_test_lstm, y_test_lstm, \"test\", enc)"
   ]
  },
  {
   "cell_type": "code",
   "execution_count": null,
   "metadata": {},
   "outputs": [],
   "source": []
  },
  {
   "cell_type": "code",
   "execution_count": null,
   "metadata": {},
   "outputs": [],
   "source": []
  }
 ],
 "metadata": {
  "kernelspec": {
   "display_name": "ML",
   "language": "python",
   "name": "python3"
  },
  "language_info": {
   "codemirror_mode": {
    "name": "ipython",
    "version": 3
   },
   "file_extension": ".py",
   "mimetype": "text/x-python",
   "name": "python",
   "nbconvert_exporter": "python",
   "pygments_lexer": "ipython3",
   "version": "3.9.15 | packaged by conda-forge | (main, Nov 22 2022, 08:52:10) \n[Clang 14.0.6 ]"
  },
  "orig_nbformat": 4,
  "vscode": {
   "interpreter": {
    "hash": "e35c5856cff72d20e6e0e19445c0d45b03888a7b19367444be448131dd51e693"
   }
  }
 },
 "nbformat": 4,
 "nbformat_minor": 2
}
