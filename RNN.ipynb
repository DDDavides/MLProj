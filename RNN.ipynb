{
 "cells": [
  {
   "cell_type": "code",
   "execution_count": 5,
   "metadata": {},
   "outputs": [],
   "source": [
    "from sklearn.model_selection import train_test_split\n",
    "\n",
    "from sklearn.preprocessing import OneHotEncoder\n",
    "from sklearn.impute import SimpleImputer\n",
    "\n",
    "import pandas as pd\n",
    "import tensorflow as tf\n",
    "\n",
    "from tensorflow import keras as k\n",
    "from utility import *"
   ]
  },
  {
   "cell_type": "code",
   "execution_count": 6,
   "metadata": {},
   "outputs": [],
   "source": [
    "data = load_data()\n",
    "X, y = create_XY(data)\n",
    "\n",
    "enc = OneHotEncoder(sparse=False)\n",
    "y = enc.fit_transform(y)\n",
    "X_imputed = SimpleImputer().fit_transform(X)"
   ]
  },
  {
   "cell_type": "markdown",
   "metadata": {},
   "source": [
    "# LSTM"
   ]
  },
  {
   "cell_type": "code",
   "execution_count": null,
   "metadata": {},
   "outputs": [],
   "source": [
    "x_train, x_test, y_train, y_test = train_test_split(X_imputed, y, shuffle=False, test_size=test_size)"
   ]
  },
  {
   "cell_type": "code",
   "execution_count": null,
   "metadata": {},
   "outputs": [],
   "source": [
    "x_train = reshape_to_inputshape(x_train, trn_ssn)\n",
    "y_train = reshape_to_inputshape(y_train, trn_ssn)\n",
    "\n",
    "x_test = reshape_to_inputshape(x_test, tst_ssn)\n",
    "y_test = reshape_to_inputshape(y_test,  tst_ssn)"
   ]
  },
  {
   "cell_type": "code",
   "execution_count": null,
   "metadata": {},
   "outputs": [],
   "source": [
    "model = k.models.Sequential(\n",
    "    [\n",
    "        k.layers.LSTM(64, return_sequences=True),\n",
    "        k.layers.Dropout(0.4),\n",
    "        k.layers.Dense(1000, activation=\"relu\"),\n",
    "        k.layers.Dropout(0.3),\n",
    "        k.layers.Dense(250, activation=\"relu\"),\n",
    "        k.layers.Dropout(0.2),\n",
    "        k.layers.Dense(3, activation=\"softmax\")\n",
    "    ]\n",
    ")\n",
    "\n",
    "print(model(x_train).shape)\n",
    "model.summary()\n",
    "\n",
    "model.compile(\n",
    "    loss='categorical_crossentropy',\n",
    "    optimizer=tf.keras.optimizers.Adam(0.01),\n",
    "    metrics=[\"accuracy\"]\n",
    ")\n",
    "\n",
    "callback = tf.keras.callbacks.EarlyStopping(monitor='accuracy', patience=6)\n",
    "\n",
    "model.fit(x_train, y_train, epochs=500, callbacks=[callback])"
   ]
  },
  {
   "cell_type": "code",
   "execution_count": null,
   "metadata": {},
   "outputs": [],
   "source": [
    "model.evaluate(x_test, y_test)\n",
    "report2(model, x_train, y_train, \"train\", enc)\n",
    "report2(model, x_test, y_test, \"test\", enc)"
   ]
  },
  {
   "attachments": {},
   "cell_type": "markdown",
   "metadata": {},
   "source": [
    "## SimpleRNN"
   ]
  },
  {
   "cell_type": "code",
   "execution_count": null,
   "metadata": {},
   "outputs": [],
   "source": [
    "model = k.models.Sequential(\n",
    "    [\n",
    "        k.layers.SimpleRNN(64, return_sequences=True),\n",
    "        k.layers.Dropout(0.4),\n",
    "        k.layers.Dense(1000, activation=\"relu\"),\n",
    "        k.layers.Dropout(0.3),\n",
    "        k.layers.Dense(250, activation=\"relu\"),\n",
    "        k.layers.Dropout(0.2),\n",
    "        k.layers.Dense(3, activation=\"softmax\")\n",
    "    ]\n",
    ")\n",
    "\n",
    "print(model(x_train).shape)\n",
    "model.summary()"
   ]
  },
  {
   "cell_type": "code",
   "execution_count": null,
   "metadata": {},
   "outputs": [],
   "source": [
    "\n",
    "model.compile(\n",
    "    loss='categorical_crossentropy',\n",
    "    optimizer=tf.keras.optimizers.Adam(0.01),\n",
    "    metrics=[\"accuracy\"]\n",
    ")\n",
    "\n",
    "callback = tf.keras.callbacks.EarlyStopping(monitor='accuracy', patience=6)\n",
    "\n",
    "model.fit(x_train, y_train, epochs=500, callbacks=[callback])\n",
    "model.evaluate(x_test, y_test)\n",
    "report2(model, x_train, y_train, \"train\", enc)\n",
    "report2(model, x_test, y_test, \"test\", enc)"
   ]
  },
  {
   "attachments": {},
   "cell_type": "markdown",
   "metadata": {},
   "source": [
    "## Bidirectional"
   ]
  },
  {
   "cell_type": "code",
   "execution_count": null,
   "metadata": {},
   "outputs": [],
   "source": [
    "model = k.models.Sequential(\n",
    "    [\n",
    "        k.layers.Bidirectional(k.layers.LSTM(64, return_sequences=True)),\n",
    "        k.layers.Dropout(0.4),\n",
    "        k.layers.Dense(1000, activation=\"relu\"),\n",
    "        k.layers.Dropout(0.3),\n",
    "        k.layers.Dense(250, activation=\"relu\"),\n",
    "        k.layers.Dropout(0.2),\n",
    "        k.layers.Dense(3, activation=\"softmax\")\n",
    "    ]\n",
    ")\n",
    "\n",
    "print(model(x_train).shape)\n",
    "model.summary()"
   ]
  },
  {
   "cell_type": "code",
   "execution_count": null,
   "metadata": {},
   "outputs": [],
   "source": [
    "\n",
    "model.compile(\n",
    "    loss='categorical_crossentropy',\n",
    "    optimizer=tf.keras.optimizers.Adam(0.01),\n",
    "    metrics=[\"accuracy\"]\n",
    ")\n",
    "\n",
    "callback = tf.keras.callbacks.EarlyStopping(monitor='loss', patience=6)\n",
    "\n",
    "model.fit(x_train, y_train, epochs=500, callbacks=[callback])\n",
    "model.evaluate(x_test, y_test)\n",
    "report2(model, x_train, y_train, \"train\", enc)\n",
    "report2(model, x_test, y_test, \"test\", enc)"
   ]
  },
  {
   "cell_type": "markdown",
   "metadata": {},
   "source": [
    "## 2 LSTM concatenate + dense e dropout in sequenza"
   ]
  },
  {
   "cell_type": "code",
   "execution_count": null,
   "metadata": {},
   "outputs": [],
   "source": [
    "inputs = k.layers.Input(shape=(10,94))\n",
    "lstm1 = k.layers.LSTM(100, return_sequences=True, activation=\"relu\")(inputs)\n",
    "lstm2 = k.layers.LSTM(50, return_sequences=True, activation=\"relu\")(inputs)\n",
    "concatenated = k.layers.Concatenate()([\n",
    "    lstm1,\n",
    "    lstm2\n",
    "])\n",
    "\n",
    "out = k.layers.Dropout(0.5)(concatenated)\n",
    "out = k.layers.Dense(1000, activation=\"relu\")(out)\n",
    "out = k.layers.Dropout(0.5)(out)\n",
    "out = k.layers.Dense(250, activation=\"relu\")(out)\n",
    "out = k.layers.Dropout(0.5)(out)\n",
    "out = k.layers.Dense(3, activation=\"softmax\")(out)\n",
    "\n",
    "model = k.models.Model(inputs=inputs, outputs=out)"
   ]
  },
  {
   "cell_type": "code",
   "execution_count": null,
   "metadata": {},
   "outputs": [],
   "source": [
    "model.summary()"
   ]
  },
  {
   "cell_type": "code",
   "execution_count": null,
   "metadata": {},
   "outputs": [],
   "source": [
    "model.compile(\n",
    "    loss='categorical_crossentropy',\n",
    "    optimizer=tf.keras.optimizers.Adam(0.01),\n",
    "    metrics=[\"accuracy\"]\n",
    ")\n",
    "\n",
    "callback = tf.keras.callbacks.EarlyStopping(monitor='loss', patience=6)\n",
    "\n",
    "model.fit(x_train, y_train, epochs=500, callbacks=[callback])"
   ]
  },
  {
   "cell_type": "code",
   "execution_count": null,
   "metadata": {},
   "outputs": [],
   "source": [
    "model.evaluate(x_test, y_test)\n",
    "report2(model, x_train, y_train, \"train\", enc)\n",
    "report2(model, x_test, y_test, \"test\", enc)"
   ]
  },
  {
   "cell_type": "markdown",
   "metadata": {},
   "source": [
    "### Fit\n",
    "loss: 0.9373 - accuracy: 0.5609\n",
    "### Evaluate\n",
    "loss: 0.9192 - accuracy: 0.5930\n",
    "### Classification report\n",
    "\n",
    "| | precision | recall | f1-score | support |\n",
    "| - | ----------- | ------ | -------- | ------- |\n",
    "| A | 0.609 | 0.614 | 0.612 | 345 |\n",
    "| D | 0.321 | 0.201 | 0.247 | 254 |\n",
    "| H | 0.652 | 0.763 | 0.704 | 541 |\n",
    "| accuracy | |  | 0.593 | 1140 |\n",
    "| macro avg | 0.527 | 0.526 | 0.521 | 1140 |\n",
    "| weighted avg | 0.565 | 0.593 | 0.574 | 1140 |"
   ]
  },
  {
   "cell_type": "markdown",
   "metadata": {},
   "source": [
    "## LSTM in parallelo"
   ]
  },
  {
   "cell_type": "code",
   "execution_count": null,
   "metadata": {},
   "outputs": [],
   "source": [
    "inputs = k.layers.Input(shape=(10,94))\n",
    "x = []\n",
    "Tx = 10\n",
    "for t in range(Tx):\n",
    "    module = k.layers.LSTM((t+1)*10, return_sequences=True)(inputs)\n",
    "    module = k.layers.Dropout(0.7)(module)\n",
    "    x.append(module)\n",
    "x = k.layers.Concatenate()(x)\n",
    "\n",
    "out = k.layers.Dense(1000, activation=\"relu\")(x)\n",
    "out = k.layers.Dropout(0.7)(out)\n",
    "out = k.layers.Dense(250, activation=\"relu\")(out)\n",
    "out = k.layers.Dense(3, activation=\"softmax\")(out)\n",
    "\n",
    "txLstm = k.models.Model(inputs=inputs, outputs=out)"
   ]
  },
  {
   "cell_type": "code",
   "execution_count": null,
   "metadata": {},
   "outputs": [],
   "source": [
    "txLstm.summary()"
   ]
  },
  {
   "cell_type": "code",
   "execution_count": null,
   "metadata": {},
   "outputs": [],
   "source": [
    "txLstm.compile(\n",
    "    loss='categorical_crossentropy',\n",
    "    optimizer=tf.keras.optimizers.Adam(0.01),\n",
    "    metrics=[\"accuracy\"]\n",
    ")\n",
    "\n",
    "callback = tf.keras.callbacks.EarlyStopping(monitor='accuracy', patience=6)\n",
    "\n",
    "txLstm.fit(x_train, y_train, epochs=500, callbacks=[callback], batch_size=16)"
   ]
  },
  {
   "cell_type": "code",
   "execution_count": null,
   "metadata": {},
   "outputs": [],
   "source": [
    "txLstm.evaluate(x_test, y_test)\n",
    "report2(txLstm, x_train, y_train, \"train\", enc)\n",
    "report2(txLstm, x_test, y_test, \"test\", enc)"
   ]
  },
  {
   "cell_type": "markdown",
   "metadata": {},
   "source": [
    "# GRU"
   ]
  },
  {
   "cell_type": "code",
   "execution_count": null,
   "metadata": {},
   "outputs": [],
   "source": [
    "gru = k.models.Sequential([\n",
    "    k.layers.GRU(100, return_sequences=True, activation=\"relu\"),\n",
    "    k.layers.Dropout(0.4),\n",
    "    k.layers.Dense(1000, activation=\"relu\"),\n",
    "    k.layers.Dropout(0.3),\n",
    "    k.layers.Dense(250, activation=\"relu\"),\n",
    "    k.layers.Dropout(0.2),\n",
    "    k.layers.Dense(3, activation=\"softmax\")\n",
    "])"
   ]
  },
  {
   "cell_type": "code",
   "execution_count": null,
   "metadata": {},
   "outputs": [],
   "source": [
    "gru(x_train)\n",
    "gru.summary()"
   ]
  },
  {
   "cell_type": "code",
   "execution_count": null,
   "metadata": {},
   "outputs": [],
   "source": [
    "gru.compile(\n",
    "    loss='categorical_crossentropy',\n",
    "    optimizer=tf.keras.optimizers.Adam(0.01),\n",
    "    metrics=[\"accuracy\"]\n",
    ")\n",
    "\n",
    "callback = tf.keras.callbacks.EarlyStopping(monitor='loss', patience=6)\n",
    "\n",
    "gru.fit(x_train, y_train, epochs=500, callbacks=[callback])"
   ]
  },
  {
   "cell_type": "code",
   "execution_count": null,
   "metadata": {},
   "outputs": [],
   "source": [
    "gru.evaluate(x_test, y_test)\n",
    "report2(gru, x_train, y_train, \"train\", enc)\n",
    "report2(gru, x_test, y_test, \"test\", enc)"
   ]
  },
  {
   "cell_type": "markdown",
   "metadata": {},
   "source": [
    "# Time distributed"
   ]
  },
  {
   "cell_type": "code",
   "execution_count": null,
   "metadata": {},
   "outputs": [],
   "source": [
    "def time_step(data, label, step=10):\n",
    "    x,y = [],[]\n",
    "    for i in range(data.shape[0] - step):\n",
    "        x.append(data[i:i+step])\n",
    "        y.append(label[i+step])\n",
    "    return np.array(x), np.array(y)"
   ]
  },
  {
   "cell_type": "code",
   "execution_count": null,
   "metadata": {},
   "outputs": [],
   "source": [
    "def create_dataset(team_name):\n",
    "    ht = data.loc[data['HomeTeam']==team_name]\n",
    "    at = data.loc[data['AwayTeam']==team_name]\n",
    "    team_data = pd.concat([ht,at])\n",
    "    team_data['Team'] = team_name\n",
    "    team_data_label = team_data['FTR']\n",
    "    team_data_featured = pd.get_dummies(team_data[features])\n",
    "    return team_data_featured,team_data_label"
   ]
  },
  {
   "cell_type": "code",
   "execution_count": null,
   "metadata": {},
   "outputs": [],
   "source": [
    "team_name = 'Chelsea'\n",
    "data_f, data_l = create_dataset(team_name)\n",
    "data_f = SimpleImputer().fit_transform(data_f)\n",
    "x_ars, y_ars = time_step(data_f, data_l.to_numpy())\n",
    "\n",
    "print(x_ars.shape)\n",
    "print(y_ars.shape)\n",
    "\n",
    "y_ars = enc.fit_transform(y_ars.reshape(-1,1))\n",
    "x_train, x_test, y_train, y_test = train_test_split(x_ars, y_ars, shuffle=False, test_size=test_size)\n",
    "\n",
    "Tx = x_train.shape[1] #Time steps\n",
    "Ty = y_train.shape[1] #Time Steps"
   ]
  },
  {
   "cell_type": "code",
   "execution_count": null,
   "metadata": {},
   "outputs": [],
   "source": [
    "teams = set(data['HomeTeam'])\n",
    "df_x = pd.DataFrame()\n",
    "df_y = pd.DataFrame()\n",
    "for team in teams:\n",
    "    data_f, data_l = create_dataset(team)\n",
    "    #data_f = SimpleImputer().fit_transform(pd.get_dummies(data_f))  \n",
    "    x_team, y_team = time_step(data_f, data_l.to_numpy())\n",
    "    y_team = enc.fit_transform(y_team.reshape(-1,1))\n",
    "    df_x = pd.concat([df_x, pd.DataFrame(x_team.reshape(x_team.shape[0], -1))])\n",
    "    df_y = pd.concat([df_y, pd.DataFrame(y_team)])\n",
    "df_x = SimpleImputer().fit_transform(pd.get_dummies(df_x))  \n",
    "df_x = df_x.reshape(df_x.shape[0], 10, -1)\n",
    "\n",
    "x_train, x_test, y_train, y_test = train_test_split(df_x, df_y, shuffle=False, test_size=test_size)"
   ]
  },
  {
   "cell_type": "code",
   "execution_count": null,
   "metadata": {},
   "outputs": [],
   "source": [
    "model = k.models.Sequential(\n",
    "    [\n",
    "        k.layers.GRU(128, dropout=0.5),\n",
    "        k.layers.Flatten(),\n",
    "        k.layers.Dense(40, activation=\"relu\"),\n",
    "        k.layers.Dropout(0.4),\n",
    "        k.layers.Dense(20, activation=\"relu\"),\n",
    "        k.layers.Dropout(0.2),\n",
    "        k.layers.Dense(10, activation=\"relu\"),\n",
    "        k.layers.Dense(3, activation=\"softmax\")\n",
    "    ]\n",
    ")"
   ]
  },
  {
   "cell_type": "code",
   "execution_count": null,
   "metadata": {},
   "outputs": [],
   "source": [
    "model.compile(\n",
    "    loss='categorical_crossentropy',\n",
    "    optimizer=tf.keras.optimizers.Adam(0.001),\n",
    "    metrics=[\"accuracy\"]\n",
    ")\n",
    "model(x_train)\n",
    "model.summary()"
   ]
  },
  {
   "cell_type": "code",
   "execution_count": null,
   "metadata": {},
   "outputs": [],
   "source": [
    "callback = tf.keras.callbacks.EarlyStopping(monitor='loss', patience=6)\n",
    "\n",
    "model.fit(x_train, y_train, epochs=100, callbacks=[callback])"
   ]
  },
  {
   "cell_type": "code",
   "execution_count": null,
   "metadata": {},
   "outputs": [],
   "source": [
    "model.evaluate(x_test, y_test)\n",
    "print(y_test.shape)\n",
    "report1(model, x_train, y_train, \"train\", enc)\n",
    "report1(model, x_test, y_test, \"test\", enc)"
   ]
  },
  {
   "attachments": {},
   "cell_type": "markdown",
   "metadata": {},
   "source": [
    "# LSTM timestep = features"
   ]
  },
  {
   "cell_type": "code",
   "execution_count": null,
   "metadata": {},
   "outputs": [],
   "source": [
    "features_not_teams = ['HTeamEloScore', 'ATeamEloScore', \n",
    "            'HTdaysSinceLastMatch', 'ATdaysSinceLastMatch', \n",
    "            'HTW_rate', 'ATW_rate', 'ATD_rate', 'HTD_rate', \n",
    "            '7_HTW_rate', '12_HTW_rate', '7_ATW_rate', '12_ATW_rate', \n",
    "            '7_HTD_rate', '12_HTD_rate', '7_ATD_rate', '12_ATD_rate',\n",
    "            '7_HTL_rate', '12_HTL_rate', '7_ATL_rate', '12_ATL_rate',\n",
    "            '5_HTHW_rate', '5_ATAW_rate']\n",
    "\n",
    "X = pd.get_dummies(data[features_not_teams]).to_numpy()\n",
    "y = data[['FTR']].to_numpy().ravel().reshape(-1, 1)\n",
    "enc = OneHotEncoder(sparse=False)\n",
    "y = enc.fit_transform(y)\n",
    "X_imputed = SimpleImputer().fit_transform(X)"
   ]
  },
  {
   "cell_type": "code",
   "execution_count": 8,
   "metadata": {},
   "outputs": [],
   "source": [
    "def reshape_features(input: np.ndarray):\n",
    "    arr = input.reshape(input.shape[0], input.shape[1], 1)\n",
    "    return arr"
   ]
  },
  {
   "cell_type": "code",
   "execution_count": null,
   "metadata": {},
   "outputs": [],
   "source": [
    "x_train, x_test, y_train, y_test = train_test_split(X_imputed, y, shuffle=False, test_size=test_size)\n",
    "\n",
    "x_train = reshape_features(x_train)\n",
    "x_test = reshape_features(x_test)\n",
    "\n",
    "print(\"x_train:\", x_train.shape)\n",
    "print(\"x_test:\", x_test.shape)\n",
    "print(\"y_train:\", y_train.shape)\n",
    "print(\"y_test:\", y_test.shape)"
   ]
  },
  {
   "cell_type": "code",
   "execution_count": null,
   "metadata": {},
   "outputs": [],
   "source": [
    "model = k.models.Sequential(\n",
    "    [\n",
    "        k.layers.LSTM(64),\n",
    "        k.layers.Flatten(),\n",
    "        k.layers.Dense(40, activation=\"relu\"),\n",
    "        k.layers.Dropout(0.4),\n",
    "        k.layers.Dense(20, activation=\"relu\"),\n",
    "        k.layers.Dropout(0.2),\n",
    "        k.layers.Dense(10, activation=\"relu\"),\n",
    "        k.layers.Dense(3, activation=\"softmax\")\n",
    "    ]\n",
    ")\n",
    "\n",
    "model(x_train)\n",
    "model.summary()\n",
    "\n",
    "model.compile(\n",
    "    loss='categorical_crossentropy',\n",
    "    optimizer=tf.keras.optimizers.Adam(0.01),\n",
    "    metrics=[\"accuracy\"]\n",
    ")\n",
    "\n",
    "callback = tf.keras.callbacks.EarlyStopping(monitor='loss', patience=5)\n",
    "\n",
    "model.fit(x_train, y_train, epochs=500, callbacks=[callback])"
   ]
  },
  {
   "cell_type": "code",
   "execution_count": null,
   "metadata": {},
   "outputs": [],
   "source": [
    "model = k.models.Sequential(\n",
    "    [\n",
    "        k.layers.Bidirectional(k.layers.LSTM(64)),\n",
    "        k.layers.Dense(3, activation=\"softmax\")\n",
    "    ]\n",
    ")\n",
    "\n",
    "model(x_train)\n",
    "model.summary()\n",
    "\n",
    "model.compile(\n",
    "    loss='categorical_crossentropy',\n",
    "    optimizer=tf.keras.optimizers.Adam(0.01),\n",
    "    metrics=[\"accuracy\"]\n",
    ")\n",
    "\n",
    "callback = tf.keras.callbacks.EarlyStopping(monitor='loss', patience=5)\n",
    "\n",
    "model.fit(x_train, y_train, epochs=10, callbacks=[callback])"
   ]
  },
  {
   "cell_type": "code",
   "execution_count": null,
   "metadata": {},
   "outputs": [],
   "source": [
    "report1(model, x_train, y_train, 'train', enc)\n",
    "report1(model, x_test, y_test, 'test', enc)"
   ]
  },
  {
   "attachments": {},
   "cell_type": "markdown",
   "metadata": {},
   "source": [
    "# WaveNet"
   ]
  },
  {
   "cell_type": "code",
   "execution_count": 9,
   "metadata": {},
   "outputs": [
    {
     "name": "stdout",
     "output_type": "stream",
     "text": [
      "x_train: (3040, 94, 1)\n",
      "x_test: (1140, 94, 1)\n",
      "y_train: (3040, 3)\n",
      "y_test: (1140, 3)\n"
     ]
    }
   ],
   "source": [
    "x_train, x_test, y_train, y_test = train_test_split(X_imputed, y, shuffle=False, test_size=test_size)\n",
    "\n",
    "x_train = reshape_features(x_train)\n",
    "x_test = reshape_features(x_test)\n",
    "\n",
    "print(\"x_train:\", x_train.shape)\n",
    "print(\"x_test:\", x_test.shape)\n",
    "print(\"y_train:\", y_train.shape)\n",
    "print(\"y_test:\", y_test.shape)"
   ]
  },
  {
   "cell_type": "code",
   "execution_count": 10,
   "metadata": {},
   "outputs": [
    {
     "name": "stdout",
     "output_type": "stream",
     "text": [
      "Metal device set to: Apple M1 Pro\n",
      "\n",
      "systemMemory: 16.00 GB\n",
      "maxCacheSize: 5.33 GB\n",
      "\n"
     ]
    },
    {
     "name": "stderr",
     "output_type": "stream",
     "text": [
      "2022-12-22 12:39:38.108214: I tensorflow/core/common_runtime/pluggable_device/pluggable_device_factory.cc:305] Could not identify NUMA node of platform GPU ID 0, defaulting to 0. Your kernel may not have been built with NUMA support.\n",
      "2022-12-22 12:39:38.108356: I tensorflow/core/common_runtime/pluggable_device/pluggable_device_factory.cc:271] Created TensorFlow device (/job:localhost/replica:0/task:0/device:GPU:0 with 0 MB memory) -> physical PluggableDevice (device: 0, name: METAL, pci bus id: <undefined>)\n"
     ]
    }
   ],
   "source": [
    "model = k.models.Sequential()\n",
    "\n",
    "for i in [1, 2, 4]:\n",
    "    model.add(k.layers.Conv1D(2**(4 + i), 2, dilation_rate=i, padding=\"causal\"))\n",
    "    model.add(k.layers.BatchNormalization())\n",
    "    model.add(k.layers.Activation(activation=\"relu\"))\n",
    "    model.add(k.layers.MaxPool1D(pool_size=2, strides=1, padding=\"same\"))\n",
    "\n",
    "# model.add(k.layers.Conv1D(3, 2, dilation_rate=1, padding=\"same\"))\n",
    "# model.add(k.layers.GlobalAveragePooling1D())\n",
    "model.add(k.layers.Flatten())\n",
    "model.add(k.layers.Dense(100))\n",
    "model.add(k.layers.Dense(3, activation=\"softmax\"))"
   ]
  },
  {
   "cell_type": "code",
   "execution_count": 11,
   "metadata": {},
   "outputs": [
    {
     "name": "stdout",
     "output_type": "stream",
     "text": [
      "Model: \"sequential\"\n",
      "_________________________________________________________________\n",
      "Layer (type)                 Output Shape              Param #   \n",
      "=================================================================\n",
      "conv1d (Conv1D)              (3040, 94, 32)            96        \n",
      "_________________________________________________________________\n",
      "batch_normalization (BatchNo (3040, 94, 32)            128       \n",
      "_________________________________________________________________\n",
      "activation (Activation)      (3040, 94, 32)            0         \n",
      "_________________________________________________________________\n",
      "max_pooling1d (MaxPooling1D) (3040, 94, 32)            0         \n",
      "_________________________________________________________________\n",
      "conv1d_1 (Conv1D)            (3040, 94, 64)            4160      \n",
      "_________________________________________________________________\n",
      "batch_normalization_1 (Batch (3040, 94, 64)            256       \n",
      "_________________________________________________________________\n",
      "activation_1 (Activation)    (3040, 94, 64)            0         \n",
      "_________________________________________________________________\n",
      "max_pooling1d_1 (MaxPooling1 (3040, 94, 64)            0         \n",
      "_________________________________________________________________\n",
      "conv1d_2 (Conv1D)            (3040, 94, 256)           33024     \n",
      "_________________________________________________________________\n",
      "batch_normalization_2 (Batch (3040, 94, 256)           1024      \n",
      "_________________________________________________________________\n",
      "activation_2 (Activation)    (3040, 94, 256)           0         \n",
      "_________________________________________________________________\n",
      "max_pooling1d_2 (MaxPooling1 (3040, 94, 256)           0         \n",
      "_________________________________________________________________\n",
      "flatten (Flatten)            (3040, 24064)             0         \n",
      "_________________________________________________________________\n",
      "dense (Dense)                (3040, 100)               2406500   \n",
      "_________________________________________________________________\n",
      "dense_1 (Dense)              (3040, 3)                 303       \n",
      "=================================================================\n",
      "Total params: 2,445,491\n",
      "Trainable params: 2,444,787\n",
      "Non-trainable params: 704\n",
      "_________________________________________________________________\n"
     ]
    }
   ],
   "source": [
    "model.compile(\n",
    "    loss='categorical_crossentropy',\n",
    "    optimizer=tf.keras.optimizers.Adam(0.001),\n",
    "    metrics=[\"accuracy\"]\n",
    ")\n",
    "model(x_train)\n",
    "model.summary()"
   ]
  },
  {
   "cell_type": "code",
   "execution_count": 12,
   "metadata": {},
   "outputs": [
    {
     "name": "stderr",
     "output_type": "stream",
     "text": [
      "2022-12-22 12:41:47.229128: I tensorflow/compiler/mlir/mlir_graph_optimization_pass.cc:176] None of the MLIR Optimization Passes are enabled (registered 2)\n",
      "2022-12-22 12:41:47.229352: W tensorflow/core/platform/profile_utils/cpu_utils.cc:128] Failed to get CPU frequency: 0 Hz\n"
     ]
    },
    {
     "name": "stdout",
     "output_type": "stream",
     "text": [
      "Epoch 1/1000\n"
     ]
    },
    {
     "name": "stderr",
     "output_type": "stream",
     "text": [
      "2022-12-22 12:41:47.898998: I tensorflow/core/grappler/optimizers/custom_graph_optimizer_registry.cc:112] Plugin optimizer for device_type GPU is enabled.\n"
     ]
    },
    {
     "name": "stdout",
     "output_type": "stream",
     "text": [
      "48/48 [==============================] - 5s 62ms/step - loss: 5.0365 - accuracy: 0.4678\n",
      "Epoch 2/1000\n",
      "48/48 [==============================] - 3s 55ms/step - loss: 1.9083 - accuracy: 0.4618\n",
      "Epoch 3/1000\n",
      "48/48 [==============================] - 3s 55ms/step - loss: 1.5799 - accuracy: 0.4599\n",
      "Epoch 4/1000\n",
      "48/48 [==============================] - 3s 54ms/step - loss: 1.5360 - accuracy: 0.4684\n",
      "Epoch 5/1000\n",
      "48/48 [==============================] - 3s 55ms/step - loss: 1.5011 - accuracy: 0.4849\n",
      "Epoch 6/1000\n",
      "48/48 [==============================] - 3s 56ms/step - loss: 1.0998 - accuracy: 0.5039\n",
      "Epoch 7/1000\n",
      "48/48 [==============================] - 3s 54ms/step - loss: 1.0663 - accuracy: 0.5204\n",
      "Epoch 8/1000\n",
      "48/48 [==============================] - 3s 55ms/step - loss: 1.1309 - accuracy: 0.4961\n",
      "Epoch 9/1000\n",
      "48/48 [==============================] - 3s 54ms/step - loss: 1.1000 - accuracy: 0.5069\n",
      "Epoch 10/1000\n",
      "48/48 [==============================] - 3s 54ms/step - loss: 1.0228 - accuracy: 0.5368\n",
      "Epoch 11/1000\n",
      "48/48 [==============================] - 3s 55ms/step - loss: 1.0427 - accuracy: 0.5414\n",
      "Epoch 12/1000\n",
      "48/48 [==============================] - 3s 55ms/step - loss: 1.0057 - accuracy: 0.5316\n",
      "Epoch 13/1000\n",
      "48/48 [==============================] - 3s 56ms/step - loss: 1.0612 - accuracy: 0.5161\n",
      "Epoch 14/1000\n",
      "48/48 [==============================] - 3s 57ms/step - loss: 0.9606 - accuracy: 0.5447\n",
      "Epoch 15/1000\n",
      "48/48 [==============================] - 3s 56ms/step - loss: 1.0480 - accuracy: 0.5316\n",
      "Epoch 16/1000\n",
      "48/48 [==============================] - 3s 55ms/step - loss: 0.9686 - accuracy: 0.5454\n",
      "Epoch 17/1000\n",
      "48/48 [==============================] - 3s 57ms/step - loss: 0.9501 - accuracy: 0.5638\n",
      "Epoch 18/1000\n",
      "48/48 [==============================] - 3s 58ms/step - loss: 0.9382 - accuracy: 0.5615\n",
      "Epoch 19/1000\n",
      "48/48 [==============================] - 3s 60ms/step - loss: 0.9489 - accuracy: 0.5530\n",
      "Epoch 20/1000\n",
      "48/48 [==============================] - 3s 60ms/step - loss: 0.9484 - accuracy: 0.5658\n",
      "Epoch 21/1000\n",
      "48/48 [==============================] - 3s 59ms/step - loss: 0.9454 - accuracy: 0.5628\n",
      "Epoch 22/1000\n",
      "48/48 [==============================] - 3s 61ms/step - loss: 0.9458 - accuracy: 0.5651\n",
      "Epoch 23/1000\n",
      "48/48 [==============================] - 3s 60ms/step - loss: 0.9353 - accuracy: 0.5523\n",
      "Epoch 24/1000\n",
      "48/48 [==============================] - 3s 62ms/step - loss: 0.9269 - accuracy: 0.5717\n",
      "Epoch 25/1000\n",
      "48/48 [==============================] - 3s 60ms/step - loss: 0.9229 - accuracy: 0.5618\n",
      "Epoch 26/1000\n",
      "48/48 [==============================] - 3s 63ms/step - loss: 0.9259 - accuracy: 0.5655\n",
      "Epoch 27/1000\n",
      "48/48 [==============================] - 3s 58ms/step - loss: 0.9533 - accuracy: 0.5572\n",
      "Epoch 28/1000\n",
      "48/48 [==============================] - 3s 60ms/step - loss: 0.9194 - accuracy: 0.5711\n",
      "Epoch 29/1000\n",
      "48/48 [==============================] - 3s 63ms/step - loss: 0.9146 - accuracy: 0.5813\n",
      "Epoch 30/1000\n",
      "48/48 [==============================] - 3s 63ms/step - loss: 0.9134 - accuracy: 0.5780\n",
      "Epoch 31/1000\n",
      "48/48 [==============================] - 3s 57ms/step - loss: 0.9057 - accuracy: 0.5849\n",
      "Epoch 32/1000\n",
      "48/48 [==============================] - 3s 56ms/step - loss: 0.9123 - accuracy: 0.5780\n",
      "Epoch 33/1000\n",
      "48/48 [==============================] - 3s 56ms/step - loss: 0.9177 - accuracy: 0.5786\n",
      "Epoch 34/1000\n",
      "48/48 [==============================] - 3s 56ms/step - loss: 0.9191 - accuracy: 0.5763\n",
      "Epoch 35/1000\n",
      "48/48 [==============================] - 3s 56ms/step - loss: 0.9010 - accuracy: 0.5809\n",
      "Epoch 36/1000\n",
      "48/48 [==============================] - 3s 58ms/step - loss: 0.9043 - accuracy: 0.5865\n",
      "Epoch 37/1000\n",
      "48/48 [==============================] - 3s 57ms/step - loss: 0.9011 - accuracy: 0.5898\n",
      "Epoch 38/1000\n",
      "48/48 [==============================] - 3s 59ms/step - loss: 0.9067 - accuracy: 0.5799\n",
      "Epoch 39/1000\n",
      "48/48 [==============================] - 3s 56ms/step - loss: 0.9036 - accuracy: 0.5793\n",
      "Epoch 40/1000\n",
      "48/48 [==============================] - 3s 56ms/step - loss: 0.9034 - accuracy: 0.5799\n",
      "Epoch 41/1000\n",
      "48/48 [==============================] - 3s 57ms/step - loss: 0.8909 - accuracy: 0.5888\n",
      "Epoch 42/1000\n",
      "48/48 [==============================] - 3s 56ms/step - loss: 0.9014 - accuracy: 0.5862\n",
      "Epoch 43/1000\n",
      "48/48 [==============================] - 3s 56ms/step - loss: 0.9014 - accuracy: 0.5803\n",
      "Epoch 44/1000\n",
      "48/48 [==============================] - 3s 56ms/step - loss: 0.8856 - accuracy: 0.5934\n",
      "Epoch 45/1000\n",
      "48/48 [==============================] - 3s 56ms/step - loss: 0.8874 - accuracy: 0.5891\n",
      "Epoch 46/1000\n",
      "48/48 [==============================] - 3s 56ms/step - loss: 0.8902 - accuracy: 0.5839\n",
      "Epoch 47/1000\n",
      "48/48 [==============================] - 3s 56ms/step - loss: 0.8959 - accuracy: 0.5822\n",
      "Epoch 48/1000\n",
      "48/48 [==============================] - 3s 57ms/step - loss: 0.9071 - accuracy: 0.5766\n",
      "Epoch 49/1000\n",
      "48/48 [==============================] - 3s 56ms/step - loss: 0.8875 - accuracy: 0.5944\n",
      "Epoch 50/1000\n",
      "48/48 [==============================] - 3s 56ms/step - loss: 0.8898 - accuracy: 0.5964\n",
      "Epoch 51/1000\n",
      "48/48 [==============================] - 3s 56ms/step - loss: 0.8881 - accuracy: 0.5911\n",
      "Epoch 52/1000\n",
      "48/48 [==============================] - 3s 56ms/step - loss: 0.8851 - accuracy: 0.5911\n",
      "Epoch 53/1000\n",
      "48/48 [==============================] - 3s 56ms/step - loss: 0.8870 - accuracy: 0.5891\n",
      "Epoch 54/1000\n",
      "48/48 [==============================] - 3s 56ms/step - loss: 0.8877 - accuracy: 0.5944\n",
      "Epoch 55/1000\n",
      "48/48 [==============================] - 3s 56ms/step - loss: 0.8882 - accuracy: 0.5888\n",
      "Epoch 56/1000\n",
      "48/48 [==============================] - 3s 56ms/step - loss: 0.8881 - accuracy: 0.5875\n",
      "Epoch 57/1000\n",
      "48/48 [==============================] - 3s 57ms/step - loss: 0.8804 - accuracy: 0.5875\n",
      "Epoch 58/1000\n",
      "48/48 [==============================] - 3s 56ms/step - loss: 0.8817 - accuracy: 0.5898\n",
      "Epoch 59/1000\n",
      "48/48 [==============================] - 3s 56ms/step - loss: 0.8780 - accuracy: 0.5970\n",
      "Epoch 60/1000\n",
      "48/48 [==============================] - 3s 56ms/step - loss: 0.8898 - accuracy: 0.5984\n",
      "Epoch 61/1000\n",
      "48/48 [==============================] - 3s 56ms/step - loss: 0.8915 - accuracy: 0.5842\n",
      "Epoch 62/1000\n",
      "48/48 [==============================] - 3s 57ms/step - loss: 0.8877 - accuracy: 0.5865\n",
      "Epoch 63/1000\n",
      "48/48 [==============================] - 3s 56ms/step - loss: 0.8803 - accuracy: 0.5954\n",
      "Epoch 64/1000\n",
      "48/48 [==============================] - 3s 56ms/step - loss: 0.8828 - accuracy: 0.5984\n",
      "Epoch 65/1000\n",
      "48/48 [==============================] - 3s 57ms/step - loss: 0.8828 - accuracy: 0.5947\n",
      "Epoch 66/1000\n",
      "48/48 [==============================] - 3s 57ms/step - loss: 0.8833 - accuracy: 0.5806\n",
      "Epoch 67/1000\n",
      "48/48 [==============================] - 3s 56ms/step - loss: 0.8820 - accuracy: 0.5964\n",
      "Epoch 68/1000\n",
      "48/48 [==============================] - 3s 57ms/step - loss: 0.8781 - accuracy: 0.5924\n",
      "Epoch 69/1000\n",
      "48/48 [==============================] - 3s 56ms/step - loss: 0.8835 - accuracy: 0.5872\n"
     ]
    },
    {
     "data": {
      "text/plain": [
       "<tensorflow.python.keras.callbacks.History at 0x292526ee0>"
      ]
     },
     "execution_count": 12,
     "metadata": {},
     "output_type": "execute_result"
    }
   ],
   "source": [
    "callback = tf.keras.callbacks.EarlyStopping(monitor='loss', patience=10)\n",
    "\n",
    "model.fit(x_train, y_train, epochs=1000, batch_size=64, callbacks=[callback])"
   ]
  },
  {
   "cell_type": "code",
   "execution_count": 13,
   "metadata": {},
   "outputs": [
    {
     "name": "stderr",
     "output_type": "stream",
     "text": [
      "2022-12-22 12:44:58.466544: I tensorflow/core/grappler/optimizers/custom_graph_optimizer_registry.cc:112] Plugin optimizer for device_type GPU is enabled.\n"
     ]
    },
    {
     "name": "stdout",
     "output_type": "stream",
     "text": [
      "TRAIN REPORT\n",
      "              precision    recall  f1-score   support\n",
      "\n",
      "           A      0.628     0.537     0.579       867\n",
      "           D      0.499     0.249     0.332       783\n",
      "           H      0.622     0.853     0.719      1390\n",
      "\n",
      "    accuracy                          0.608      3040\n",
      "   macro avg      0.583     0.547     0.544      3040\n",
      "weighted avg      0.592     0.608     0.580      3040\n",
      "\n",
      "--------------------------------------------------\n"
     ]
    },
    {
     "name": "stderr",
     "output_type": "stream",
     "text": [
      "2022-12-22 12:44:59.779101: I tensorflow/core/grappler/optimizers/custom_graph_optimizer_registry.cc:112] Plugin optimizer for device_type GPU is enabled.\n"
     ]
    },
    {
     "name": "stdout",
     "output_type": "stream",
     "text": [
      "TEST REPORT\n",
      "              precision    recall  f1-score   support\n",
      "\n",
      "           A      0.587     0.646     0.615       345\n",
      "           D      0.286     0.102     0.151       254\n",
      "           H      0.619     0.765     0.684       541\n",
      "\n",
      "    accuracy                          0.582      1140\n",
      "   macro avg      0.497     0.505     0.483      1140\n",
      "weighted avg      0.535     0.582     0.544      1140\n",
      "\n",
      "--------------------------------------------------\n"
     ]
    }
   ],
   "source": [
    "report1(model, x_train, y_train, \"train\", enc)\n",
    "report1(model, x_test, y_test, \"test\", enc)"
   ]
  }
 ],
 "metadata": {
  "kernelspec": {
   "display_name": "ML",
   "language": "python",
   "name": "python3"
  },
  "language_info": {
   "codemirror_mode": {
    "name": "ipython",
    "version": 3
   },
   "file_extension": ".py",
   "mimetype": "text/x-python",
   "name": "python",
   "nbconvert_exporter": "python",
   "pygments_lexer": "ipython3",
   "version": "3.9.15"
  },
  "orig_nbformat": 4,
  "vscode": {
   "interpreter": {
    "hash": "e35c5856cff72d20e6e0e19445c0d45b03888a7b19367444be448131dd51e693"
   }
  }
 },
 "nbformat": 4,
 "nbformat_minor": 2
}
